{
 "cells": [
  {
   "cell_type": "code",
   "execution_count": 1,
   "id": "c46f97a4",
   "metadata": {
    "execution": {
     "iopub.execute_input": "2023-02-12T13:55:03.504258Z",
     "iopub.status.busy": "2023-02-12T13:55:03.503799Z",
     "iopub.status.idle": "2023-02-12T13:55:03.514142Z",
     "shell.execute_reply": "2023-02-12T13:55:03.513307Z"
    },
    "papermill": {
     "duration": 0.026824,
     "end_time": "2023-02-12T13:55:03.516552",
     "exception": false,
     "start_time": "2023-02-12T13:55:03.489728",
     "status": "completed"
    },
    "tags": []
   },
   "outputs": [],
   "source": [
    "import pandas as pd"
   ]
  },
  {
   "cell_type": "code",
   "execution_count": 2,
   "id": "0ff277ac",
   "metadata": {
    "execution": {
     "iopub.execute_input": "2023-02-12T13:55:03.542750Z",
     "iopub.status.busy": "2023-02-12T13:55:03.541797Z",
     "iopub.status.idle": "2023-02-12T13:55:03.593463Z",
     "shell.execute_reply": "2023-02-12T13:55:03.592243Z"
    },
    "papermill": {
     "duration": 0.068222,
     "end_time": "2023-02-12T13:55:03.596120",
     "exception": false,
     "start_time": "2023-02-12T13:55:03.527898",
     "status": "completed"
    },
    "tags": []
   },
   "outputs": [
    {
     "data": {
      "text/html": [
       "<div>\n",
       "<style scoped>\n",
       "    .dataframe tbody tr th:only-of-type {\n",
       "        vertical-align: middle;\n",
       "    }\n",
       "\n",
       "    .dataframe tbody tr th {\n",
       "        vertical-align: top;\n",
       "    }\n",
       "\n",
       "    .dataframe thead th {\n",
       "        text-align: right;\n",
       "    }\n",
       "</style>\n",
       "<table border=\"1\" class=\"dataframe\">\n",
       "  <thead>\n",
       "    <tr style=\"text-align: right;\">\n",
       "      <th></th>\n",
       "      <th>gender</th>\n",
       "      <th>race/ethnicity</th>\n",
       "      <th>parental level of education</th>\n",
       "      <th>lunch</th>\n",
       "      <th>test preparation course</th>\n",
       "      <th>math score</th>\n",
       "      <th>reading score</th>\n",
       "      <th>writing score</th>\n",
       "    </tr>\n",
       "  </thead>\n",
       "  <tbody>\n",
       "    <tr>\n",
       "      <th>0</th>\n",
       "      <td>male</td>\n",
       "      <td>group A</td>\n",
       "      <td>high school</td>\n",
       "      <td>standard</td>\n",
       "      <td>completed</td>\n",
       "      <td>67</td>\n",
       "      <td>67</td>\n",
       "      <td>63</td>\n",
       "    </tr>\n",
       "    <tr>\n",
       "      <th>1</th>\n",
       "      <td>female</td>\n",
       "      <td>group D</td>\n",
       "      <td>some high school</td>\n",
       "      <td>free/reduced</td>\n",
       "      <td>none</td>\n",
       "      <td>40</td>\n",
       "      <td>59</td>\n",
       "      <td>55</td>\n",
       "    </tr>\n",
       "    <tr>\n",
       "      <th>2</th>\n",
       "      <td>male</td>\n",
       "      <td>group E</td>\n",
       "      <td>some college</td>\n",
       "      <td>free/reduced</td>\n",
       "      <td>none</td>\n",
       "      <td>59</td>\n",
       "      <td>60</td>\n",
       "      <td>50</td>\n",
       "    </tr>\n",
       "    <tr>\n",
       "      <th>3</th>\n",
       "      <td>male</td>\n",
       "      <td>group B</td>\n",
       "      <td>high school</td>\n",
       "      <td>standard</td>\n",
       "      <td>none</td>\n",
       "      <td>77</td>\n",
       "      <td>78</td>\n",
       "      <td>68</td>\n",
       "    </tr>\n",
       "    <tr>\n",
       "      <th>4</th>\n",
       "      <td>male</td>\n",
       "      <td>group E</td>\n",
       "      <td>associate's degree</td>\n",
       "      <td>standard</td>\n",
       "      <td>completed</td>\n",
       "      <td>78</td>\n",
       "      <td>73</td>\n",
       "      <td>68</td>\n",
       "    </tr>\n",
       "    <tr>\n",
       "      <th>...</th>\n",
       "      <td>...</td>\n",
       "      <td>...</td>\n",
       "      <td>...</td>\n",
       "      <td>...</td>\n",
       "      <td>...</td>\n",
       "      <td>...</td>\n",
       "      <td>...</td>\n",
       "      <td>...</td>\n",
       "    </tr>\n",
       "    <tr>\n",
       "      <th>995</th>\n",
       "      <td>male</td>\n",
       "      <td>group C</td>\n",
       "      <td>high school</td>\n",
       "      <td>standard</td>\n",
       "      <td>none</td>\n",
       "      <td>73</td>\n",
       "      <td>70</td>\n",
       "      <td>65</td>\n",
       "    </tr>\n",
       "    <tr>\n",
       "      <th>996</th>\n",
       "      <td>male</td>\n",
       "      <td>group D</td>\n",
       "      <td>associate's degree</td>\n",
       "      <td>free/reduced</td>\n",
       "      <td>completed</td>\n",
       "      <td>85</td>\n",
       "      <td>91</td>\n",
       "      <td>92</td>\n",
       "    </tr>\n",
       "    <tr>\n",
       "      <th>997</th>\n",
       "      <td>female</td>\n",
       "      <td>group C</td>\n",
       "      <td>some high school</td>\n",
       "      <td>free/reduced</td>\n",
       "      <td>none</td>\n",
       "      <td>32</td>\n",
       "      <td>35</td>\n",
       "      <td>41</td>\n",
       "    </tr>\n",
       "    <tr>\n",
       "      <th>998</th>\n",
       "      <td>female</td>\n",
       "      <td>group C</td>\n",
       "      <td>some college</td>\n",
       "      <td>standard</td>\n",
       "      <td>none</td>\n",
       "      <td>73</td>\n",
       "      <td>74</td>\n",
       "      <td>82</td>\n",
       "    </tr>\n",
       "    <tr>\n",
       "      <th>999</th>\n",
       "      <td>male</td>\n",
       "      <td>group A</td>\n",
       "      <td>some college</td>\n",
       "      <td>standard</td>\n",
       "      <td>completed</td>\n",
       "      <td>65</td>\n",
       "      <td>60</td>\n",
       "      <td>62</td>\n",
       "    </tr>\n",
       "  </tbody>\n",
       "</table>\n",
       "<p>1000 rows × 8 columns</p>\n",
       "</div>"
      ],
      "text/plain": [
       "     gender race/ethnicity parental level of education         lunch  \\\n",
       "0      male        group A                 high school      standard   \n",
       "1    female        group D            some high school  free/reduced   \n",
       "2      male        group E                some college  free/reduced   \n",
       "3      male        group B                 high school      standard   \n",
       "4      male        group E          associate's degree      standard   \n",
       "..      ...            ...                         ...           ...   \n",
       "995    male        group C                 high school      standard   \n",
       "996    male        group D          associate's degree  free/reduced   \n",
       "997  female        group C            some high school  free/reduced   \n",
       "998  female        group C                some college      standard   \n",
       "999    male        group A                some college      standard   \n",
       "\n",
       "    test preparation course  math score  reading score  writing score  \n",
       "0                 completed          67             67             63  \n",
       "1                      none          40             59             55  \n",
       "2                      none          59             60             50  \n",
       "3                      none          77             78             68  \n",
       "4                 completed          78             73             68  \n",
       "..                      ...         ...            ...            ...  \n",
       "995                    none          73             70             65  \n",
       "996               completed          85             91             92  \n",
       "997                    none          32             35             41  \n",
       "998                    none          73             74             82  \n",
       "999               completed          65             60             62  \n",
       "\n",
       "[1000 rows x 8 columns]"
      ]
     },
     "execution_count": 2,
     "metadata": {},
     "output_type": "execute_result"
    }
   ],
   "source": [
    "df=pd.read_csv(\"../input/students-performance-in-exams/exams.csv\")\n",
    "df"
   ]
  },
  {
   "cell_type": "code",
   "execution_count": 3,
   "id": "ab43fe28",
   "metadata": {
    "execution": {
     "iopub.execute_input": "2023-02-12T13:55:03.620528Z",
     "iopub.status.busy": "2023-02-12T13:55:03.620095Z",
     "iopub.status.idle": "2023-02-12T13:55:03.642505Z",
     "shell.execute_reply": "2023-02-12T13:55:03.641231Z"
    },
    "papermill": {
     "duration": 0.037685,
     "end_time": "2023-02-12T13:55:03.645149",
     "exception": false,
     "start_time": "2023-02-12T13:55:03.607464",
     "status": "completed"
    },
    "tags": []
   },
   "outputs": [
    {
     "name": "stdout",
     "output_type": "stream",
     "text": [
      "<class 'pandas.core.frame.DataFrame'>\n",
      "RangeIndex: 1000 entries, 0 to 999\n",
      "Data columns (total 8 columns):\n",
      " #   Column                       Non-Null Count  Dtype \n",
      "---  ------                       --------------  ----- \n",
      " 0   gender                       1000 non-null   object\n",
      " 1   race/ethnicity               1000 non-null   object\n",
      " 2   parental level of education  1000 non-null   object\n",
      " 3   lunch                        1000 non-null   object\n",
      " 4   test preparation course      1000 non-null   object\n",
      " 5   math score                   1000 non-null   int64 \n",
      " 6   reading score                1000 non-null   int64 \n",
      " 7   writing score                1000 non-null   int64 \n",
      "dtypes: int64(3), object(5)\n",
      "memory usage: 62.6+ KB\n"
     ]
    }
   ],
   "source": [
    "df.info()"
   ]
  },
  {
   "cell_type": "code",
   "execution_count": 4,
   "id": "945ef4fc",
   "metadata": {
    "execution": {
     "iopub.execute_input": "2023-02-12T13:55:03.670390Z",
     "iopub.status.busy": "2023-02-12T13:55:03.669690Z",
     "iopub.status.idle": "2023-02-12T13:55:03.675298Z",
     "shell.execute_reply": "2023-02-12T13:55:03.674555Z"
    },
    "papermill": {
     "duration": 0.020471,
     "end_time": "2023-02-12T13:55:03.677318",
     "exception": false,
     "start_time": "2023-02-12T13:55:03.656847",
     "status": "completed"
    },
    "tags": []
   },
   "outputs": [
    {
     "data": {
      "text/plain": [
       "(1000, 8)"
      ]
     },
     "execution_count": 4,
     "metadata": {},
     "output_type": "execute_result"
    }
   ],
   "source": [
    "df.shape"
   ]
  },
  {
   "cell_type": "code",
   "execution_count": 5,
   "id": "bdf20ca2",
   "metadata": {
    "execution": {
     "iopub.execute_input": "2023-02-12T13:55:03.702453Z",
     "iopub.status.busy": "2023-02-12T13:55:03.701747Z",
     "iopub.status.idle": "2023-02-12T13:55:03.714826Z",
     "shell.execute_reply": "2023-02-12T13:55:03.713700Z"
    },
    "papermill": {
     "duration": 0.029473,
     "end_time": "2023-02-12T13:55:03.718466",
     "exception": false,
     "start_time": "2023-02-12T13:55:03.688993",
     "status": "completed"
    },
    "tags": []
   },
   "outputs": [
    {
     "data": {
      "text/html": [
       "<div>\n",
       "<style scoped>\n",
       "    .dataframe tbody tr th:only-of-type {\n",
       "        vertical-align: middle;\n",
       "    }\n",
       "\n",
       "    .dataframe tbody tr th {\n",
       "        vertical-align: top;\n",
       "    }\n",
       "\n",
       "    .dataframe thead th {\n",
       "        text-align: right;\n",
       "    }\n",
       "</style>\n",
       "<table border=\"1\" class=\"dataframe\">\n",
       "  <thead>\n",
       "    <tr style=\"text-align: right;\">\n",
       "      <th></th>\n",
       "      <th>gender</th>\n",
       "      <th>race/ethnicity</th>\n",
       "      <th>parental level of education</th>\n",
       "      <th>lunch</th>\n",
       "      <th>test preparation course</th>\n",
       "      <th>math score</th>\n",
       "      <th>reading score</th>\n",
       "      <th>writing score</th>\n",
       "    </tr>\n",
       "  </thead>\n",
       "  <tbody>\n",
       "    <tr>\n",
       "      <th>0</th>\n",
       "      <td>male</td>\n",
       "      <td>group A</td>\n",
       "      <td>high school</td>\n",
       "      <td>standard</td>\n",
       "      <td>completed</td>\n",
       "      <td>67</td>\n",
       "      <td>67</td>\n",
       "      <td>63</td>\n",
       "    </tr>\n",
       "    <tr>\n",
       "      <th>1</th>\n",
       "      <td>female</td>\n",
       "      <td>group D</td>\n",
       "      <td>some high school</td>\n",
       "      <td>free/reduced</td>\n",
       "      <td>none</td>\n",
       "      <td>40</td>\n",
       "      <td>59</td>\n",
       "      <td>55</td>\n",
       "    </tr>\n",
       "    <tr>\n",
       "      <th>2</th>\n",
       "      <td>male</td>\n",
       "      <td>group E</td>\n",
       "      <td>some college</td>\n",
       "      <td>free/reduced</td>\n",
       "      <td>none</td>\n",
       "      <td>59</td>\n",
       "      <td>60</td>\n",
       "      <td>50</td>\n",
       "    </tr>\n",
       "    <tr>\n",
       "      <th>3</th>\n",
       "      <td>male</td>\n",
       "      <td>group B</td>\n",
       "      <td>high school</td>\n",
       "      <td>standard</td>\n",
       "      <td>none</td>\n",
       "      <td>77</td>\n",
       "      <td>78</td>\n",
       "      <td>68</td>\n",
       "    </tr>\n",
       "    <tr>\n",
       "      <th>4</th>\n",
       "      <td>male</td>\n",
       "      <td>group E</td>\n",
       "      <td>associate's degree</td>\n",
       "      <td>standard</td>\n",
       "      <td>completed</td>\n",
       "      <td>78</td>\n",
       "      <td>73</td>\n",
       "      <td>68</td>\n",
       "    </tr>\n",
       "  </tbody>\n",
       "</table>\n",
       "</div>"
      ],
      "text/plain": [
       "   gender race/ethnicity parental level of education         lunch  \\\n",
       "0    male        group A                 high school      standard   \n",
       "1  female        group D            some high school  free/reduced   \n",
       "2    male        group E                some college  free/reduced   \n",
       "3    male        group B                 high school      standard   \n",
       "4    male        group E          associate's degree      standard   \n",
       "\n",
       "  test preparation course  math score  reading score  writing score  \n",
       "0               completed          67             67             63  \n",
       "1                    none          40             59             55  \n",
       "2                    none          59             60             50  \n",
       "3                    none          77             78             68  \n",
       "4               completed          78             73             68  "
      ]
     },
     "execution_count": 5,
     "metadata": {},
     "output_type": "execute_result"
    }
   ],
   "source": [
    "df.head()"
   ]
  },
  {
   "cell_type": "code",
   "execution_count": 6,
   "id": "9f69fade",
   "metadata": {
    "execution": {
     "iopub.execute_input": "2023-02-12T13:55:03.745096Z",
     "iopub.status.busy": "2023-02-12T13:55:03.744416Z",
     "iopub.status.idle": "2023-02-12T13:55:03.757985Z",
     "shell.execute_reply": "2023-02-12T13:55:03.756821Z"
    },
    "papermill": {
     "duration": 0.029671,
     "end_time": "2023-02-12T13:55:03.760465",
     "exception": false,
     "start_time": "2023-02-12T13:55:03.730794",
     "status": "completed"
    },
    "tags": []
   },
   "outputs": [
    {
     "data": {
      "text/html": [
       "<div>\n",
       "<style scoped>\n",
       "    .dataframe tbody tr th:only-of-type {\n",
       "        vertical-align: middle;\n",
       "    }\n",
       "\n",
       "    .dataframe tbody tr th {\n",
       "        vertical-align: top;\n",
       "    }\n",
       "\n",
       "    .dataframe thead th {\n",
       "        text-align: right;\n",
       "    }\n",
       "</style>\n",
       "<table border=\"1\" class=\"dataframe\">\n",
       "  <thead>\n",
       "    <tr style=\"text-align: right;\">\n",
       "      <th></th>\n",
       "      <th>gender</th>\n",
       "      <th>race/ethnicity</th>\n",
       "      <th>parental level of education</th>\n",
       "      <th>lunch</th>\n",
       "      <th>test preparation course</th>\n",
       "      <th>math score</th>\n",
       "      <th>reading score</th>\n",
       "      <th>writing score</th>\n",
       "    </tr>\n",
       "  </thead>\n",
       "  <tbody>\n",
       "    <tr>\n",
       "      <th>995</th>\n",
       "      <td>male</td>\n",
       "      <td>group C</td>\n",
       "      <td>high school</td>\n",
       "      <td>standard</td>\n",
       "      <td>none</td>\n",
       "      <td>73</td>\n",
       "      <td>70</td>\n",
       "      <td>65</td>\n",
       "    </tr>\n",
       "    <tr>\n",
       "      <th>996</th>\n",
       "      <td>male</td>\n",
       "      <td>group D</td>\n",
       "      <td>associate's degree</td>\n",
       "      <td>free/reduced</td>\n",
       "      <td>completed</td>\n",
       "      <td>85</td>\n",
       "      <td>91</td>\n",
       "      <td>92</td>\n",
       "    </tr>\n",
       "    <tr>\n",
       "      <th>997</th>\n",
       "      <td>female</td>\n",
       "      <td>group C</td>\n",
       "      <td>some high school</td>\n",
       "      <td>free/reduced</td>\n",
       "      <td>none</td>\n",
       "      <td>32</td>\n",
       "      <td>35</td>\n",
       "      <td>41</td>\n",
       "    </tr>\n",
       "    <tr>\n",
       "      <th>998</th>\n",
       "      <td>female</td>\n",
       "      <td>group C</td>\n",
       "      <td>some college</td>\n",
       "      <td>standard</td>\n",
       "      <td>none</td>\n",
       "      <td>73</td>\n",
       "      <td>74</td>\n",
       "      <td>82</td>\n",
       "    </tr>\n",
       "    <tr>\n",
       "      <th>999</th>\n",
       "      <td>male</td>\n",
       "      <td>group A</td>\n",
       "      <td>some college</td>\n",
       "      <td>standard</td>\n",
       "      <td>completed</td>\n",
       "      <td>65</td>\n",
       "      <td>60</td>\n",
       "      <td>62</td>\n",
       "    </tr>\n",
       "  </tbody>\n",
       "</table>\n",
       "</div>"
      ],
      "text/plain": [
       "     gender race/ethnicity parental level of education         lunch  \\\n",
       "995    male        group C                 high school      standard   \n",
       "996    male        group D          associate's degree  free/reduced   \n",
       "997  female        group C            some high school  free/reduced   \n",
       "998  female        group C                some college      standard   \n",
       "999    male        group A                some college      standard   \n",
       "\n",
       "    test preparation course  math score  reading score  writing score  \n",
       "995                    none          73             70             65  \n",
       "996               completed          85             91             92  \n",
       "997                    none          32             35             41  \n",
       "998                    none          73             74             82  \n",
       "999               completed          65             60             62  "
      ]
     },
     "execution_count": 6,
     "metadata": {},
     "output_type": "execute_result"
    }
   ],
   "source": [
    "df.tail()"
   ]
  },
  {
   "cell_type": "code",
   "execution_count": 7,
   "id": "f62340f0",
   "metadata": {
    "execution": {
     "iopub.execute_input": "2023-02-12T13:55:03.787542Z",
     "iopub.status.busy": "2023-02-12T13:55:03.786354Z",
     "iopub.status.idle": "2023-02-12T13:55:03.792998Z",
     "shell.execute_reply": "2023-02-12T13:55:03.792003Z"
    },
    "papermill": {
     "duration": 0.022211,
     "end_time": "2023-02-12T13:55:03.795179",
     "exception": false,
     "start_time": "2023-02-12T13:55:03.772968",
     "status": "completed"
    },
    "tags": []
   },
   "outputs": [
    {
     "data": {
      "text/plain": [
       "Index(['gender', 'race/ethnicity', 'parental level of education', 'lunch',\n",
       "       'test preparation course', 'math score', 'reading score',\n",
       "       'writing score'],\n",
       "      dtype='object')"
      ]
     },
     "execution_count": 7,
     "metadata": {},
     "output_type": "execute_result"
    }
   ],
   "source": [
    "df.columns"
   ]
  },
  {
   "cell_type": "code",
   "execution_count": 8,
   "id": "9897d3d4",
   "metadata": {
    "execution": {
     "iopub.execute_input": "2023-02-12T13:55:03.820561Z",
     "iopub.status.busy": "2023-02-12T13:55:03.820188Z",
     "iopub.status.idle": "2023-02-12T13:55:03.841459Z",
     "shell.execute_reply": "2023-02-12T13:55:03.840420Z"
    },
    "papermill": {
     "duration": 0.036657,
     "end_time": "2023-02-12T13:55:03.843843",
     "exception": false,
     "start_time": "2023-02-12T13:55:03.807186",
     "status": "completed"
    },
    "tags": []
   },
   "outputs": [
    {
     "data": {
      "text/html": [
       "<div>\n",
       "<style scoped>\n",
       "    .dataframe tbody tr th:only-of-type {\n",
       "        vertical-align: middle;\n",
       "    }\n",
       "\n",
       "    .dataframe tbody tr th {\n",
       "        vertical-align: top;\n",
       "    }\n",
       "\n",
       "    .dataframe thead th {\n",
       "        text-align: right;\n",
       "    }\n",
       "</style>\n",
       "<table border=\"1\" class=\"dataframe\">\n",
       "  <thead>\n",
       "    <tr style=\"text-align: right;\">\n",
       "      <th></th>\n",
       "      <th>math score</th>\n",
       "      <th>reading score</th>\n",
       "      <th>writing score</th>\n",
       "    </tr>\n",
       "  </thead>\n",
       "  <tbody>\n",
       "    <tr>\n",
       "      <th>count</th>\n",
       "      <td>1000.000000</td>\n",
       "      <td>1000.000000</td>\n",
       "      <td>1000.000000</td>\n",
       "    </tr>\n",
       "    <tr>\n",
       "      <th>mean</th>\n",
       "      <td>66.396000</td>\n",
       "      <td>69.002000</td>\n",
       "      <td>67.738000</td>\n",
       "    </tr>\n",
       "    <tr>\n",
       "      <th>std</th>\n",
       "      <td>15.402871</td>\n",
       "      <td>14.737272</td>\n",
       "      <td>15.600985</td>\n",
       "    </tr>\n",
       "    <tr>\n",
       "      <th>min</th>\n",
       "      <td>13.000000</td>\n",
       "      <td>27.000000</td>\n",
       "      <td>23.000000</td>\n",
       "    </tr>\n",
       "    <tr>\n",
       "      <th>25%</th>\n",
       "      <td>56.000000</td>\n",
       "      <td>60.000000</td>\n",
       "      <td>58.000000</td>\n",
       "    </tr>\n",
       "    <tr>\n",
       "      <th>50%</th>\n",
       "      <td>66.500000</td>\n",
       "      <td>70.000000</td>\n",
       "      <td>68.000000</td>\n",
       "    </tr>\n",
       "    <tr>\n",
       "      <th>75%</th>\n",
       "      <td>77.000000</td>\n",
       "      <td>79.000000</td>\n",
       "      <td>79.000000</td>\n",
       "    </tr>\n",
       "    <tr>\n",
       "      <th>max</th>\n",
       "      <td>100.000000</td>\n",
       "      <td>100.000000</td>\n",
       "      <td>100.000000</td>\n",
       "    </tr>\n",
       "  </tbody>\n",
       "</table>\n",
       "</div>"
      ],
      "text/plain": [
       "        math score  reading score  writing score\n",
       "count  1000.000000    1000.000000    1000.000000\n",
       "mean     66.396000      69.002000      67.738000\n",
       "std      15.402871      14.737272      15.600985\n",
       "min      13.000000      27.000000      23.000000\n",
       "25%      56.000000      60.000000      58.000000\n",
       "50%      66.500000      70.000000      68.000000\n",
       "75%      77.000000      79.000000      79.000000\n",
       "max     100.000000     100.000000     100.000000"
      ]
     },
     "execution_count": 8,
     "metadata": {},
     "output_type": "execute_result"
    }
   ],
   "source": [
    "df.describe()"
   ]
  },
  {
   "cell_type": "code",
   "execution_count": 9,
   "id": "29f5c5d0",
   "metadata": {
    "execution": {
     "iopub.execute_input": "2023-02-12T13:55:03.869823Z",
     "iopub.status.busy": "2023-02-12T13:55:03.869430Z",
     "iopub.status.idle": "2023-02-12T13:55:03.887352Z",
     "shell.execute_reply": "2023-02-12T13:55:03.886262Z"
    },
    "papermill": {
     "duration": 0.033761,
     "end_time": "2023-02-12T13:55:03.889692",
     "exception": false,
     "start_time": "2023-02-12T13:55:03.855931",
     "status": "completed"
    },
    "tags": []
   },
   "outputs": [
    {
     "data": {
      "text/html": [
       "<div>\n",
       "<style scoped>\n",
       "    .dataframe tbody tr th:only-of-type {\n",
       "        vertical-align: middle;\n",
       "    }\n",
       "\n",
       "    .dataframe tbody tr th {\n",
       "        vertical-align: top;\n",
       "    }\n",
       "\n",
       "    .dataframe thead th {\n",
       "        text-align: right;\n",
       "    }\n",
       "</style>\n",
       "<table border=\"1\" class=\"dataframe\">\n",
       "  <thead>\n",
       "    <tr style=\"text-align: right;\">\n",
       "      <th></th>\n",
       "      <th>gender</th>\n",
       "      <th>race/ethnicity</th>\n",
       "      <th>parental level of education</th>\n",
       "      <th>lunch</th>\n",
       "      <th>test preparation course</th>\n",
       "      <th>math score</th>\n",
       "      <th>reading score</th>\n",
       "      <th>writing score</th>\n",
       "    </tr>\n",
       "  </thead>\n",
       "  <tbody>\n",
       "    <tr>\n",
       "      <th>0</th>\n",
       "      <td>male</td>\n",
       "      <td>group A</td>\n",
       "      <td>high school</td>\n",
       "      <td>standard</td>\n",
       "      <td>completed</td>\n",
       "      <td>67</td>\n",
       "      <td>67</td>\n",
       "      <td>63</td>\n",
       "    </tr>\n",
       "    <tr>\n",
       "      <th>2</th>\n",
       "      <td>male</td>\n",
       "      <td>group E</td>\n",
       "      <td>some college</td>\n",
       "      <td>free/reduced</td>\n",
       "      <td>none</td>\n",
       "      <td>59</td>\n",
       "      <td>60</td>\n",
       "      <td>50</td>\n",
       "    </tr>\n",
       "    <tr>\n",
       "      <th>3</th>\n",
       "      <td>male</td>\n",
       "      <td>group B</td>\n",
       "      <td>high school</td>\n",
       "      <td>standard</td>\n",
       "      <td>none</td>\n",
       "      <td>77</td>\n",
       "      <td>78</td>\n",
       "      <td>68</td>\n",
       "    </tr>\n",
       "    <tr>\n",
       "      <th>4</th>\n",
       "      <td>male</td>\n",
       "      <td>group E</td>\n",
       "      <td>associate's degree</td>\n",
       "      <td>standard</td>\n",
       "      <td>completed</td>\n",
       "      <td>78</td>\n",
       "      <td>73</td>\n",
       "      <td>68</td>\n",
       "    </tr>\n",
       "    <tr>\n",
       "      <th>7</th>\n",
       "      <td>male</td>\n",
       "      <td>group E</td>\n",
       "      <td>some college</td>\n",
       "      <td>standard</td>\n",
       "      <td>completed</td>\n",
       "      <td>93</td>\n",
       "      <td>88</td>\n",
       "      <td>84</td>\n",
       "    </tr>\n",
       "    <tr>\n",
       "      <th>...</th>\n",
       "      <td>...</td>\n",
       "      <td>...</td>\n",
       "      <td>...</td>\n",
       "      <td>...</td>\n",
       "      <td>...</td>\n",
       "      <td>...</td>\n",
       "      <td>...</td>\n",
       "      <td>...</td>\n",
       "    </tr>\n",
       "    <tr>\n",
       "      <th>992</th>\n",
       "      <td>male</td>\n",
       "      <td>group C</td>\n",
       "      <td>some college</td>\n",
       "      <td>standard</td>\n",
       "      <td>none</td>\n",
       "      <td>69</td>\n",
       "      <td>63</td>\n",
       "      <td>66</td>\n",
       "    </tr>\n",
       "    <tr>\n",
       "      <th>994</th>\n",
       "      <td>male</td>\n",
       "      <td>group E</td>\n",
       "      <td>high school</td>\n",
       "      <td>free/reduced</td>\n",
       "      <td>completed</td>\n",
       "      <td>86</td>\n",
       "      <td>82</td>\n",
       "      <td>75</td>\n",
       "    </tr>\n",
       "    <tr>\n",
       "      <th>995</th>\n",
       "      <td>male</td>\n",
       "      <td>group C</td>\n",
       "      <td>high school</td>\n",
       "      <td>standard</td>\n",
       "      <td>none</td>\n",
       "      <td>73</td>\n",
       "      <td>70</td>\n",
       "      <td>65</td>\n",
       "    </tr>\n",
       "    <tr>\n",
       "      <th>996</th>\n",
       "      <td>male</td>\n",
       "      <td>group D</td>\n",
       "      <td>associate's degree</td>\n",
       "      <td>free/reduced</td>\n",
       "      <td>completed</td>\n",
       "      <td>85</td>\n",
       "      <td>91</td>\n",
       "      <td>92</td>\n",
       "    </tr>\n",
       "    <tr>\n",
       "      <th>999</th>\n",
       "      <td>male</td>\n",
       "      <td>group A</td>\n",
       "      <td>some college</td>\n",
       "      <td>standard</td>\n",
       "      <td>completed</td>\n",
       "      <td>65</td>\n",
       "      <td>60</td>\n",
       "      <td>62</td>\n",
       "    </tr>\n",
       "  </tbody>\n",
       "</table>\n",
       "<p>517 rows × 8 columns</p>\n",
       "</div>"
      ],
      "text/plain": [
       "    gender race/ethnicity parental level of education         lunch  \\\n",
       "0     male        group A                 high school      standard   \n",
       "2     male        group E                some college  free/reduced   \n",
       "3     male        group B                 high school      standard   \n",
       "4     male        group E          associate's degree      standard   \n",
       "7     male        group E                some college      standard   \n",
       "..     ...            ...                         ...           ...   \n",
       "992   male        group C                some college      standard   \n",
       "994   male        group E                 high school  free/reduced   \n",
       "995   male        group C                 high school      standard   \n",
       "996   male        group D          associate's degree  free/reduced   \n",
       "999   male        group A                some college      standard   \n",
       "\n",
       "    test preparation course  math score  reading score  writing score  \n",
       "0                 completed          67             67             63  \n",
       "2                      none          59             60             50  \n",
       "3                      none          77             78             68  \n",
       "4                 completed          78             73             68  \n",
       "7                 completed          93             88             84  \n",
       "..                      ...         ...            ...            ...  \n",
       "992                    none          69             63             66  \n",
       "994               completed          86             82             75  \n",
       "995                    none          73             70             65  \n",
       "996               completed          85             91             92  \n",
       "999               completed          65             60             62  \n",
       "\n",
       "[517 rows x 8 columns]"
      ]
     },
     "execution_count": 9,
     "metadata": {},
     "output_type": "execute_result"
    }
   ],
   "source": [
    "df[df['gender']==df['gender'].max()]"
   ]
  },
  {
   "cell_type": "code",
   "execution_count": 10,
   "id": "c0cb0b87",
   "metadata": {
    "execution": {
     "iopub.execute_input": "2023-02-12T13:55:03.916435Z",
     "iopub.status.busy": "2023-02-12T13:55:03.916035Z",
     "iopub.status.idle": "2023-02-12T13:55:03.934607Z",
     "shell.execute_reply": "2023-02-12T13:55:03.933471Z"
    },
    "papermill": {
     "duration": 0.0348,
     "end_time": "2023-02-12T13:55:03.936947",
     "exception": false,
     "start_time": "2023-02-12T13:55:03.902147",
     "status": "completed"
    },
    "tags": []
   },
   "outputs": [
    {
     "data": {
      "text/html": [
       "<div>\n",
       "<style scoped>\n",
       "    .dataframe tbody tr th:only-of-type {\n",
       "        vertical-align: middle;\n",
       "    }\n",
       "\n",
       "    .dataframe tbody tr th {\n",
       "        vertical-align: top;\n",
       "    }\n",
       "\n",
       "    .dataframe thead th {\n",
       "        text-align: right;\n",
       "    }\n",
       "</style>\n",
       "<table border=\"1\" class=\"dataframe\">\n",
       "  <thead>\n",
       "    <tr style=\"text-align: right;\">\n",
       "      <th></th>\n",
       "      <th>gender</th>\n",
       "      <th>race/ethnicity</th>\n",
       "      <th>parental level of education</th>\n",
       "      <th>lunch</th>\n",
       "      <th>test preparation course</th>\n",
       "      <th>math score</th>\n",
       "      <th>reading score</th>\n",
       "      <th>writing score</th>\n",
       "    </tr>\n",
       "  </thead>\n",
       "  <tbody>\n",
       "    <tr>\n",
       "      <th>1</th>\n",
       "      <td>female</td>\n",
       "      <td>group D</td>\n",
       "      <td>some high school</td>\n",
       "      <td>free/reduced</td>\n",
       "      <td>none</td>\n",
       "      <td>40</td>\n",
       "      <td>59</td>\n",
       "      <td>55</td>\n",
       "    </tr>\n",
       "    <tr>\n",
       "      <th>5</th>\n",
       "      <td>female</td>\n",
       "      <td>group D</td>\n",
       "      <td>high school</td>\n",
       "      <td>standard</td>\n",
       "      <td>none</td>\n",
       "      <td>63</td>\n",
       "      <td>77</td>\n",
       "      <td>76</td>\n",
       "    </tr>\n",
       "    <tr>\n",
       "      <th>6</th>\n",
       "      <td>female</td>\n",
       "      <td>group A</td>\n",
       "      <td>bachelor's degree</td>\n",
       "      <td>standard</td>\n",
       "      <td>none</td>\n",
       "      <td>62</td>\n",
       "      <td>59</td>\n",
       "      <td>63</td>\n",
       "    </tr>\n",
       "    <tr>\n",
       "      <th>11</th>\n",
       "      <td>female</td>\n",
       "      <td>group D</td>\n",
       "      <td>high school</td>\n",
       "      <td>standard</td>\n",
       "      <td>completed</td>\n",
       "      <td>80</td>\n",
       "      <td>87</td>\n",
       "      <td>90</td>\n",
       "    </tr>\n",
       "    <tr>\n",
       "      <th>17</th>\n",
       "      <td>female</td>\n",
       "      <td>group C</td>\n",
       "      <td>associate's degree</td>\n",
       "      <td>standard</td>\n",
       "      <td>completed</td>\n",
       "      <td>54</td>\n",
       "      <td>62</td>\n",
       "      <td>65</td>\n",
       "    </tr>\n",
       "    <tr>\n",
       "      <th>...</th>\n",
       "      <td>...</td>\n",
       "      <td>...</td>\n",
       "      <td>...</td>\n",
       "      <td>...</td>\n",
       "      <td>...</td>\n",
       "      <td>...</td>\n",
       "      <td>...</td>\n",
       "      <td>...</td>\n",
       "    </tr>\n",
       "    <tr>\n",
       "      <th>988</th>\n",
       "      <td>female</td>\n",
       "      <td>group B</td>\n",
       "      <td>some college</td>\n",
       "      <td>standard</td>\n",
       "      <td>none</td>\n",
       "      <td>75</td>\n",
       "      <td>76</td>\n",
       "      <td>81</td>\n",
       "    </tr>\n",
       "    <tr>\n",
       "      <th>991</th>\n",
       "      <td>female</td>\n",
       "      <td>group C</td>\n",
       "      <td>associate's degree</td>\n",
       "      <td>standard</td>\n",
       "      <td>none</td>\n",
       "      <td>87</td>\n",
       "      <td>93</td>\n",
       "      <td>88</td>\n",
       "    </tr>\n",
       "    <tr>\n",
       "      <th>993</th>\n",
       "      <td>female</td>\n",
       "      <td>group A</td>\n",
       "      <td>associate's degree</td>\n",
       "      <td>standard</td>\n",
       "      <td>none</td>\n",
       "      <td>58</td>\n",
       "      <td>54</td>\n",
       "      <td>58</td>\n",
       "    </tr>\n",
       "    <tr>\n",
       "      <th>997</th>\n",
       "      <td>female</td>\n",
       "      <td>group C</td>\n",
       "      <td>some high school</td>\n",
       "      <td>free/reduced</td>\n",
       "      <td>none</td>\n",
       "      <td>32</td>\n",
       "      <td>35</td>\n",
       "      <td>41</td>\n",
       "    </tr>\n",
       "    <tr>\n",
       "      <th>998</th>\n",
       "      <td>female</td>\n",
       "      <td>group C</td>\n",
       "      <td>some college</td>\n",
       "      <td>standard</td>\n",
       "      <td>none</td>\n",
       "      <td>73</td>\n",
       "      <td>74</td>\n",
       "      <td>82</td>\n",
       "    </tr>\n",
       "  </tbody>\n",
       "</table>\n",
       "<p>483 rows × 8 columns</p>\n",
       "</div>"
      ],
      "text/plain": [
       "     gender race/ethnicity parental level of education         lunch  \\\n",
       "1    female        group D            some high school  free/reduced   \n",
       "5    female        group D                 high school      standard   \n",
       "6    female        group A           bachelor's degree      standard   \n",
       "11   female        group D                 high school      standard   \n",
       "17   female        group C          associate's degree      standard   \n",
       "..      ...            ...                         ...           ...   \n",
       "988  female        group B                some college      standard   \n",
       "991  female        group C          associate's degree      standard   \n",
       "993  female        group A          associate's degree      standard   \n",
       "997  female        group C            some high school  free/reduced   \n",
       "998  female        group C                some college      standard   \n",
       "\n",
       "    test preparation course  math score  reading score  writing score  \n",
       "1                      none          40             59             55  \n",
       "5                      none          63             77             76  \n",
       "6                      none          62             59             63  \n",
       "11                completed          80             87             90  \n",
       "17                completed          54             62             65  \n",
       "..                      ...         ...            ...            ...  \n",
       "988                    none          75             76             81  \n",
       "991                    none          87             93             88  \n",
       "993                    none          58             54             58  \n",
       "997                    none          32             35             41  \n",
       "998                    none          73             74             82  \n",
       "\n",
       "[483 rows x 8 columns]"
      ]
     },
     "execution_count": 10,
     "metadata": {},
     "output_type": "execute_result"
    }
   ],
   "source": [
    "df[df['gender']==df['gender'].min()]\n"
   ]
  },
  {
   "cell_type": "code",
   "execution_count": 11,
   "id": "2f499ed1",
   "metadata": {
    "execution": {
     "iopub.execute_input": "2023-02-12T13:55:03.965031Z",
     "iopub.status.busy": "2023-02-12T13:55:03.964607Z",
     "iopub.status.idle": "2023-02-12T13:55:03.982922Z",
     "shell.execute_reply": "2023-02-12T13:55:03.981996Z"
    },
    "papermill": {
     "duration": 0.034708,
     "end_time": "2023-02-12T13:55:03.984939",
     "exception": false,
     "start_time": "2023-02-12T13:55:03.950231",
     "status": "completed"
    },
    "tags": []
   },
   "outputs": [
    {
     "data": {
      "text/html": [
       "<div>\n",
       "<style scoped>\n",
       "    .dataframe tbody tr th:only-of-type {\n",
       "        vertical-align: middle;\n",
       "    }\n",
       "\n",
       "    .dataframe tbody tr th {\n",
       "        vertical-align: top;\n",
       "    }\n",
       "\n",
       "    .dataframe thead th {\n",
       "        text-align: right;\n",
       "    }\n",
       "</style>\n",
       "<table border=\"1\" class=\"dataframe\">\n",
       "  <thead>\n",
       "    <tr style=\"text-align: right;\">\n",
       "      <th></th>\n",
       "      <th>gender</th>\n",
       "      <th>race/ethnicity</th>\n",
       "      <th>parental level of education</th>\n",
       "      <th>lunch</th>\n",
       "      <th>test preparation course</th>\n",
       "      <th>math score</th>\n",
       "      <th>reading score</th>\n",
       "      <th>writing score</th>\n",
       "    </tr>\n",
       "  </thead>\n",
       "  <tbody>\n",
       "    <tr>\n",
       "      <th>2</th>\n",
       "      <td>male</td>\n",
       "      <td>group E</td>\n",
       "      <td>some college</td>\n",
       "      <td>free/reduced</td>\n",
       "      <td>none</td>\n",
       "      <td>59</td>\n",
       "      <td>60</td>\n",
       "      <td>50</td>\n",
       "    </tr>\n",
       "    <tr>\n",
       "      <th>4</th>\n",
       "      <td>male</td>\n",
       "      <td>group E</td>\n",
       "      <td>associate's degree</td>\n",
       "      <td>standard</td>\n",
       "      <td>completed</td>\n",
       "      <td>78</td>\n",
       "      <td>73</td>\n",
       "      <td>68</td>\n",
       "    </tr>\n",
       "    <tr>\n",
       "      <th>7</th>\n",
       "      <td>male</td>\n",
       "      <td>group E</td>\n",
       "      <td>some college</td>\n",
       "      <td>standard</td>\n",
       "      <td>completed</td>\n",
       "      <td>93</td>\n",
       "      <td>88</td>\n",
       "      <td>84</td>\n",
       "    </tr>\n",
       "    <tr>\n",
       "      <th>10</th>\n",
       "      <td>male</td>\n",
       "      <td>group E</td>\n",
       "      <td>some college</td>\n",
       "      <td>standard</td>\n",
       "      <td>completed</td>\n",
       "      <td>99</td>\n",
       "      <td>83</td>\n",
       "      <td>85</td>\n",
       "    </tr>\n",
       "    <tr>\n",
       "      <th>14</th>\n",
       "      <td>male</td>\n",
       "      <td>group E</td>\n",
       "      <td>some high school</td>\n",
       "      <td>standard</td>\n",
       "      <td>completed</td>\n",
       "      <td>81</td>\n",
       "      <td>87</td>\n",
       "      <td>85</td>\n",
       "    </tr>\n",
       "    <tr>\n",
       "      <th>...</th>\n",
       "      <td>...</td>\n",
       "      <td>...</td>\n",
       "      <td>...</td>\n",
       "      <td>...</td>\n",
       "      <td>...</td>\n",
       "      <td>...</td>\n",
       "      <td>...</td>\n",
       "      <td>...</td>\n",
       "    </tr>\n",
       "    <tr>\n",
       "      <th>967</th>\n",
       "      <td>female</td>\n",
       "      <td>group E</td>\n",
       "      <td>master's degree</td>\n",
       "      <td>free/reduced</td>\n",
       "      <td>none</td>\n",
       "      <td>84</td>\n",
       "      <td>100</td>\n",
       "      <td>99</td>\n",
       "    </tr>\n",
       "    <tr>\n",
       "      <th>972</th>\n",
       "      <td>female</td>\n",
       "      <td>group E</td>\n",
       "      <td>associate's degree</td>\n",
       "      <td>standard</td>\n",
       "      <td>none</td>\n",
       "      <td>81</td>\n",
       "      <td>77</td>\n",
       "      <td>74</td>\n",
       "    </tr>\n",
       "    <tr>\n",
       "      <th>985</th>\n",
       "      <td>male</td>\n",
       "      <td>group E</td>\n",
       "      <td>associate's degree</td>\n",
       "      <td>standard</td>\n",
       "      <td>none</td>\n",
       "      <td>74</td>\n",
       "      <td>73</td>\n",
       "      <td>67</td>\n",
       "    </tr>\n",
       "    <tr>\n",
       "      <th>986</th>\n",
       "      <td>male</td>\n",
       "      <td>group E</td>\n",
       "      <td>some college</td>\n",
       "      <td>free/reduced</td>\n",
       "      <td>none</td>\n",
       "      <td>78</td>\n",
       "      <td>84</td>\n",
       "      <td>77</td>\n",
       "    </tr>\n",
       "    <tr>\n",
       "      <th>994</th>\n",
       "      <td>male</td>\n",
       "      <td>group E</td>\n",
       "      <td>high school</td>\n",
       "      <td>free/reduced</td>\n",
       "      <td>completed</td>\n",
       "      <td>86</td>\n",
       "      <td>82</td>\n",
       "      <td>75</td>\n",
       "    </tr>\n",
       "  </tbody>\n",
       "</table>\n",
       "<p>131 rows × 8 columns</p>\n",
       "</div>"
      ],
      "text/plain": [
       "     gender race/ethnicity parental level of education         lunch  \\\n",
       "2      male        group E                some college  free/reduced   \n",
       "4      male        group E          associate's degree      standard   \n",
       "7      male        group E                some college      standard   \n",
       "10     male        group E                some college      standard   \n",
       "14     male        group E            some high school      standard   \n",
       "..      ...            ...                         ...           ...   \n",
       "967  female        group E             master's degree  free/reduced   \n",
       "972  female        group E          associate's degree      standard   \n",
       "985    male        group E          associate's degree      standard   \n",
       "986    male        group E                some college  free/reduced   \n",
       "994    male        group E                 high school  free/reduced   \n",
       "\n",
       "    test preparation course  math score  reading score  writing score  \n",
       "2                      none          59             60             50  \n",
       "4                 completed          78             73             68  \n",
       "7                 completed          93             88             84  \n",
       "10                completed          99             83             85  \n",
       "14                completed          81             87             85  \n",
       "..                      ...         ...            ...            ...  \n",
       "967                    none          84            100             99  \n",
       "972                    none          81             77             74  \n",
       "985                    none          74             73             67  \n",
       "986                    none          78             84             77  \n",
       "994               completed          86             82             75  \n",
       "\n",
       "[131 rows x 8 columns]"
      ]
     },
     "execution_count": 11,
     "metadata": {},
     "output_type": "execute_result"
    }
   ],
   "source": [
    "df[df['race/ethnicity']==df['race/ethnicity'].max()]\n"
   ]
  },
  {
   "cell_type": "code",
   "execution_count": 12,
   "id": "6559505f",
   "metadata": {
    "execution": {
     "iopub.execute_input": "2023-02-12T13:55:04.013076Z",
     "iopub.status.busy": "2023-02-12T13:55:04.012656Z",
     "iopub.status.idle": "2023-02-12T13:55:04.032080Z",
     "shell.execute_reply": "2023-02-12T13:55:04.030947Z"
    },
    "papermill": {
     "duration": 0.036096,
     "end_time": "2023-02-12T13:55:04.034196",
     "exception": false,
     "start_time": "2023-02-12T13:55:03.998100",
     "status": "completed"
    },
    "tags": []
   },
   "outputs": [
    {
     "data": {
      "text/html": [
       "<div>\n",
       "<style scoped>\n",
       "    .dataframe tbody tr th:only-of-type {\n",
       "        vertical-align: middle;\n",
       "    }\n",
       "\n",
       "    .dataframe tbody tr th {\n",
       "        vertical-align: top;\n",
       "    }\n",
       "\n",
       "    .dataframe thead th {\n",
       "        text-align: right;\n",
       "    }\n",
       "</style>\n",
       "<table border=\"1\" class=\"dataframe\">\n",
       "  <thead>\n",
       "    <tr style=\"text-align: right;\">\n",
       "      <th></th>\n",
       "      <th>gender</th>\n",
       "      <th>race/ethnicity</th>\n",
       "      <th>parental level of education</th>\n",
       "      <th>lunch</th>\n",
       "      <th>test preparation course</th>\n",
       "      <th>math score</th>\n",
       "      <th>reading score</th>\n",
       "      <th>writing score</th>\n",
       "    </tr>\n",
       "  </thead>\n",
       "  <tbody>\n",
       "    <tr>\n",
       "      <th>0</th>\n",
       "      <td>male</td>\n",
       "      <td>group A</td>\n",
       "      <td>high school</td>\n",
       "      <td>standard</td>\n",
       "      <td>completed</td>\n",
       "      <td>67</td>\n",
       "      <td>67</td>\n",
       "      <td>63</td>\n",
       "    </tr>\n",
       "    <tr>\n",
       "      <th>6</th>\n",
       "      <td>female</td>\n",
       "      <td>group A</td>\n",
       "      <td>bachelor's degree</td>\n",
       "      <td>standard</td>\n",
       "      <td>none</td>\n",
       "      <td>62</td>\n",
       "      <td>59</td>\n",
       "      <td>63</td>\n",
       "    </tr>\n",
       "    <tr>\n",
       "      <th>29</th>\n",
       "      <td>female</td>\n",
       "      <td>group A</td>\n",
       "      <td>some high school</td>\n",
       "      <td>free/reduced</td>\n",
       "      <td>none</td>\n",
       "      <td>33</td>\n",
       "      <td>54</td>\n",
       "      <td>51</td>\n",
       "    </tr>\n",
       "    <tr>\n",
       "      <th>31</th>\n",
       "      <td>male</td>\n",
       "      <td>group A</td>\n",
       "      <td>bachelor's degree</td>\n",
       "      <td>free/reduced</td>\n",
       "      <td>none</td>\n",
       "      <td>78</td>\n",
       "      <td>74</td>\n",
       "      <td>73</td>\n",
       "    </tr>\n",
       "    <tr>\n",
       "      <th>32</th>\n",
       "      <td>male</td>\n",
       "      <td>group A</td>\n",
       "      <td>some high school</td>\n",
       "      <td>free/reduced</td>\n",
       "      <td>completed</td>\n",
       "      <td>40</td>\n",
       "      <td>41</td>\n",
       "      <td>39</td>\n",
       "    </tr>\n",
       "    <tr>\n",
       "      <th>...</th>\n",
       "      <td>...</td>\n",
       "      <td>...</td>\n",
       "      <td>...</td>\n",
       "      <td>...</td>\n",
       "      <td>...</td>\n",
       "      <td>...</td>\n",
       "      <td>...</td>\n",
       "      <td>...</td>\n",
       "    </tr>\n",
       "    <tr>\n",
       "      <th>966</th>\n",
       "      <td>female</td>\n",
       "      <td>group A</td>\n",
       "      <td>some high school</td>\n",
       "      <td>free/reduced</td>\n",
       "      <td>completed</td>\n",
       "      <td>55</td>\n",
       "      <td>73</td>\n",
       "      <td>70</td>\n",
       "    </tr>\n",
       "    <tr>\n",
       "      <th>983</th>\n",
       "      <td>male</td>\n",
       "      <td>group A</td>\n",
       "      <td>some high school</td>\n",
       "      <td>standard</td>\n",
       "      <td>none</td>\n",
       "      <td>58</td>\n",
       "      <td>50</td>\n",
       "      <td>47</td>\n",
       "    </tr>\n",
       "    <tr>\n",
       "      <th>987</th>\n",
       "      <td>male</td>\n",
       "      <td>group A</td>\n",
       "      <td>some college</td>\n",
       "      <td>standard</td>\n",
       "      <td>completed</td>\n",
       "      <td>78</td>\n",
       "      <td>78</td>\n",
       "      <td>74</td>\n",
       "    </tr>\n",
       "    <tr>\n",
       "      <th>993</th>\n",
       "      <td>female</td>\n",
       "      <td>group A</td>\n",
       "      <td>associate's degree</td>\n",
       "      <td>standard</td>\n",
       "      <td>none</td>\n",
       "      <td>58</td>\n",
       "      <td>54</td>\n",
       "      <td>58</td>\n",
       "    </tr>\n",
       "    <tr>\n",
       "      <th>999</th>\n",
       "      <td>male</td>\n",
       "      <td>group A</td>\n",
       "      <td>some college</td>\n",
       "      <td>standard</td>\n",
       "      <td>completed</td>\n",
       "      <td>65</td>\n",
       "      <td>60</td>\n",
       "      <td>62</td>\n",
       "    </tr>\n",
       "  </tbody>\n",
       "</table>\n",
       "<p>79 rows × 8 columns</p>\n",
       "</div>"
      ],
      "text/plain": [
       "     gender race/ethnicity parental level of education         lunch  \\\n",
       "0      male        group A                 high school      standard   \n",
       "6    female        group A           bachelor's degree      standard   \n",
       "29   female        group A            some high school  free/reduced   \n",
       "31     male        group A           bachelor's degree  free/reduced   \n",
       "32     male        group A            some high school  free/reduced   \n",
       "..      ...            ...                         ...           ...   \n",
       "966  female        group A            some high school  free/reduced   \n",
       "983    male        group A            some high school      standard   \n",
       "987    male        group A                some college      standard   \n",
       "993  female        group A          associate's degree      standard   \n",
       "999    male        group A                some college      standard   \n",
       "\n",
       "    test preparation course  math score  reading score  writing score  \n",
       "0                 completed          67             67             63  \n",
       "6                      none          62             59             63  \n",
       "29                     none          33             54             51  \n",
       "31                     none          78             74             73  \n",
       "32                completed          40             41             39  \n",
       "..                      ...         ...            ...            ...  \n",
       "966               completed          55             73             70  \n",
       "983                    none          58             50             47  \n",
       "987               completed          78             78             74  \n",
       "993                    none          58             54             58  \n",
       "999               completed          65             60             62  \n",
       "\n",
       "[79 rows x 8 columns]"
      ]
     },
     "execution_count": 12,
     "metadata": {},
     "output_type": "execute_result"
    }
   ],
   "source": [
    "df[df['race/ethnicity']==df['race/ethnicity'].min()]"
   ]
  },
  {
   "cell_type": "code",
   "execution_count": 13,
   "id": "cb23c3c1",
   "metadata": {
    "execution": {
     "iopub.execute_input": "2023-02-12T13:55:04.064043Z",
     "iopub.status.busy": "2023-02-12T13:55:04.063600Z",
     "iopub.status.idle": "2023-02-12T13:55:04.071466Z",
     "shell.execute_reply": "2023-02-12T13:55:04.070297Z"
    },
    "papermill": {
     "duration": 0.027023,
     "end_time": "2023-02-12T13:55:04.074975",
     "exception": false,
     "start_time": "2023-02-12T13:55:04.047952",
     "status": "completed"
    },
    "tags": []
   },
   "outputs": [
    {
     "data": {
      "text/plain": [
       "'some high school'"
      ]
     },
     "execution_count": 13,
     "metadata": {},
     "output_type": "execute_result"
    }
   ],
   "source": [
    "df['parental level of education'].max()"
   ]
  },
  {
   "cell_type": "code",
   "execution_count": 14,
   "id": "21aea4f5",
   "metadata": {
    "execution": {
     "iopub.execute_input": "2023-02-12T13:55:04.105328Z",
     "iopub.status.busy": "2023-02-12T13:55:04.104919Z",
     "iopub.status.idle": "2023-02-12T13:55:04.112424Z",
     "shell.execute_reply": "2023-02-12T13:55:04.111285Z"
    },
    "papermill": {
     "duration": 0.024891,
     "end_time": "2023-02-12T13:55:04.114939",
     "exception": false,
     "start_time": "2023-02-12T13:55:04.090048",
     "status": "completed"
    },
    "tags": []
   },
   "outputs": [
    {
     "data": {
      "text/plain": [
       "\"associate's degree\""
      ]
     },
     "execution_count": 14,
     "metadata": {},
     "output_type": "execute_result"
    }
   ],
   "source": [
    "df['parental level of education'].min()"
   ]
  },
  {
   "cell_type": "code",
   "execution_count": 15,
   "id": "d2e7da1a",
   "metadata": {
    "execution": {
     "iopub.execute_input": "2023-02-12T13:55:04.144725Z",
     "iopub.status.busy": "2023-02-12T13:55:04.144291Z",
     "iopub.status.idle": "2023-02-12T13:55:04.151873Z",
     "shell.execute_reply": "2023-02-12T13:55:04.150854Z"
    },
    "papermill": {
     "duration": 0.02517,
     "end_time": "2023-02-12T13:55:04.154212",
     "exception": false,
     "start_time": "2023-02-12T13:55:04.129042",
     "status": "completed"
    },
    "tags": []
   },
   "outputs": [
    {
     "data": {
      "text/plain": [
       "'standard'"
      ]
     },
     "execution_count": 15,
     "metadata": {},
     "output_type": "execute_result"
    }
   ],
   "source": [
    "df. lunch.max()"
   ]
  },
  {
   "cell_type": "code",
   "execution_count": 16,
   "id": "eceed14c",
   "metadata": {
    "execution": {
     "iopub.execute_input": "2023-02-12T13:55:04.184567Z",
     "iopub.status.busy": "2023-02-12T13:55:04.184123Z",
     "iopub.status.idle": "2023-02-12T13:55:04.191102Z",
     "shell.execute_reply": "2023-02-12T13:55:04.190299Z"
    },
    "papermill": {
     "duration": 0.024347,
     "end_time": "2023-02-12T13:55:04.193097",
     "exception": false,
     "start_time": "2023-02-12T13:55:04.168750",
     "status": "completed"
    },
    "tags": []
   },
   "outputs": [
    {
     "data": {
      "text/plain": [
       "'free/reduced'"
      ]
     },
     "execution_count": 16,
     "metadata": {},
     "output_type": "execute_result"
    }
   ],
   "source": [
    "df. lunch.min()"
   ]
  },
  {
   "cell_type": "code",
   "execution_count": 17,
   "id": "1155472e",
   "metadata": {
    "execution": {
     "iopub.execute_input": "2023-02-12T13:55:04.222779Z",
     "iopub.status.busy": "2023-02-12T13:55:04.222367Z",
     "iopub.status.idle": "2023-02-12T13:55:04.229433Z",
     "shell.execute_reply": "2023-02-12T13:55:04.228203Z"
    },
    "papermill": {
     "duration": 0.024833,
     "end_time": "2023-02-12T13:55:04.231843",
     "exception": false,
     "start_time": "2023-02-12T13:55:04.207010",
     "status": "completed"
    },
    "tags": []
   },
   "outputs": [
    {
     "data": {
      "text/plain": [
       "'none'"
      ]
     },
     "execution_count": 17,
     "metadata": {},
     "output_type": "execute_result"
    }
   ],
   "source": [
    "df['test preparation course'].max()"
   ]
  },
  {
   "cell_type": "code",
   "execution_count": 18,
   "id": "6ee3c671",
   "metadata": {
    "execution": {
     "iopub.execute_input": "2023-02-12T13:55:04.262090Z",
     "iopub.status.busy": "2023-02-12T13:55:04.261692Z",
     "iopub.status.idle": "2023-02-12T13:55:04.268806Z",
     "shell.execute_reply": "2023-02-12T13:55:04.267536Z"
    },
    "papermill": {
     "duration": 0.0252,
     "end_time": "2023-02-12T13:55:04.271021",
     "exception": false,
     "start_time": "2023-02-12T13:55:04.245821",
     "status": "completed"
    },
    "tags": []
   },
   "outputs": [
    {
     "data": {
      "text/plain": [
       "'completed'"
      ]
     },
     "execution_count": 18,
     "metadata": {},
     "output_type": "execute_result"
    }
   ],
   "source": [
    "df['test preparation course'].min()"
   ]
  },
  {
   "cell_type": "code",
   "execution_count": 19,
   "id": "3f7e0f1e",
   "metadata": {
    "execution": {
     "iopub.execute_input": "2023-02-12T13:55:04.301372Z",
     "iopub.status.busy": "2023-02-12T13:55:04.300989Z",
     "iopub.status.idle": "2023-02-12T13:55:04.307850Z",
     "shell.execute_reply": "2023-02-12T13:55:04.306795Z"
    },
    "papermill": {
     "duration": 0.024856,
     "end_time": "2023-02-12T13:55:04.310107",
     "exception": false,
     "start_time": "2023-02-12T13:55:04.285251",
     "status": "completed"
    },
    "tags": []
   },
   "outputs": [
    {
     "data": {
      "text/plain": [
       "100"
      ]
     },
     "execution_count": 19,
     "metadata": {},
     "output_type": "execute_result"
    }
   ],
   "source": [
    "df['math score'].max()"
   ]
  },
  {
   "cell_type": "code",
   "execution_count": 20,
   "id": "79ea3287",
   "metadata": {
    "execution": {
     "iopub.execute_input": "2023-02-12T13:55:04.340698Z",
     "iopub.status.busy": "2023-02-12T13:55:04.340294Z",
     "iopub.status.idle": "2023-02-12T13:55:04.358241Z",
     "shell.execute_reply": "2023-02-12T13:55:04.357111Z"
    },
    "papermill": {
     "duration": 0.036702,
     "end_time": "2023-02-12T13:55:04.361021",
     "exception": false,
     "start_time": "2023-02-12T13:55:04.324319",
     "status": "completed"
    },
    "tags": []
   },
   "outputs": [
    {
     "data": {
      "text/html": [
       "<div>\n",
       "<style scoped>\n",
       "    .dataframe tbody tr th:only-of-type {\n",
       "        vertical-align: middle;\n",
       "    }\n",
       "\n",
       "    .dataframe tbody tr th {\n",
       "        vertical-align: top;\n",
       "    }\n",
       "\n",
       "    .dataframe thead th {\n",
       "        text-align: right;\n",
       "    }\n",
       "</style>\n",
       "<table border=\"1\" class=\"dataframe\">\n",
       "  <thead>\n",
       "    <tr style=\"text-align: right;\">\n",
       "      <th></th>\n",
       "      <th>gender</th>\n",
       "      <th>race/ethnicity</th>\n",
       "      <th>parental level of education</th>\n",
       "      <th>lunch</th>\n",
       "      <th>test preparation course</th>\n",
       "      <th>math score</th>\n",
       "      <th>reading score</th>\n",
       "      <th>writing score</th>\n",
       "    </tr>\n",
       "  </thead>\n",
       "  <tbody>\n",
       "    <tr>\n",
       "      <th>0</th>\n",
       "      <td>False</td>\n",
       "      <td>False</td>\n",
       "      <td>False</td>\n",
       "      <td>False</td>\n",
       "      <td>False</td>\n",
       "      <td>False</td>\n",
       "      <td>False</td>\n",
       "      <td>False</td>\n",
       "    </tr>\n",
       "    <tr>\n",
       "      <th>1</th>\n",
       "      <td>False</td>\n",
       "      <td>False</td>\n",
       "      <td>False</td>\n",
       "      <td>False</td>\n",
       "      <td>False</td>\n",
       "      <td>False</td>\n",
       "      <td>False</td>\n",
       "      <td>False</td>\n",
       "    </tr>\n",
       "    <tr>\n",
       "      <th>2</th>\n",
       "      <td>False</td>\n",
       "      <td>False</td>\n",
       "      <td>False</td>\n",
       "      <td>False</td>\n",
       "      <td>False</td>\n",
       "      <td>False</td>\n",
       "      <td>False</td>\n",
       "      <td>False</td>\n",
       "    </tr>\n",
       "    <tr>\n",
       "      <th>3</th>\n",
       "      <td>False</td>\n",
       "      <td>False</td>\n",
       "      <td>False</td>\n",
       "      <td>False</td>\n",
       "      <td>False</td>\n",
       "      <td>False</td>\n",
       "      <td>False</td>\n",
       "      <td>False</td>\n",
       "    </tr>\n",
       "    <tr>\n",
       "      <th>4</th>\n",
       "      <td>False</td>\n",
       "      <td>False</td>\n",
       "      <td>False</td>\n",
       "      <td>False</td>\n",
       "      <td>False</td>\n",
       "      <td>False</td>\n",
       "      <td>False</td>\n",
       "      <td>False</td>\n",
       "    </tr>\n",
       "    <tr>\n",
       "      <th>...</th>\n",
       "      <td>...</td>\n",
       "      <td>...</td>\n",
       "      <td>...</td>\n",
       "      <td>...</td>\n",
       "      <td>...</td>\n",
       "      <td>...</td>\n",
       "      <td>...</td>\n",
       "      <td>...</td>\n",
       "    </tr>\n",
       "    <tr>\n",
       "      <th>995</th>\n",
       "      <td>False</td>\n",
       "      <td>False</td>\n",
       "      <td>False</td>\n",
       "      <td>False</td>\n",
       "      <td>False</td>\n",
       "      <td>False</td>\n",
       "      <td>False</td>\n",
       "      <td>False</td>\n",
       "    </tr>\n",
       "    <tr>\n",
       "      <th>996</th>\n",
       "      <td>False</td>\n",
       "      <td>False</td>\n",
       "      <td>False</td>\n",
       "      <td>False</td>\n",
       "      <td>False</td>\n",
       "      <td>False</td>\n",
       "      <td>False</td>\n",
       "      <td>False</td>\n",
       "    </tr>\n",
       "    <tr>\n",
       "      <th>997</th>\n",
       "      <td>False</td>\n",
       "      <td>False</td>\n",
       "      <td>False</td>\n",
       "      <td>False</td>\n",
       "      <td>False</td>\n",
       "      <td>False</td>\n",
       "      <td>False</td>\n",
       "      <td>False</td>\n",
       "    </tr>\n",
       "    <tr>\n",
       "      <th>998</th>\n",
       "      <td>False</td>\n",
       "      <td>False</td>\n",
       "      <td>False</td>\n",
       "      <td>False</td>\n",
       "      <td>False</td>\n",
       "      <td>False</td>\n",
       "      <td>False</td>\n",
       "      <td>False</td>\n",
       "    </tr>\n",
       "    <tr>\n",
       "      <th>999</th>\n",
       "      <td>False</td>\n",
       "      <td>False</td>\n",
       "      <td>False</td>\n",
       "      <td>False</td>\n",
       "      <td>False</td>\n",
       "      <td>False</td>\n",
       "      <td>False</td>\n",
       "      <td>False</td>\n",
       "    </tr>\n",
       "  </tbody>\n",
       "</table>\n",
       "<p>1000 rows × 8 columns</p>\n",
       "</div>"
      ],
      "text/plain": [
       "     gender  race/ethnicity  parental level of education  lunch  \\\n",
       "0     False           False                        False  False   \n",
       "1     False           False                        False  False   \n",
       "2     False           False                        False  False   \n",
       "3     False           False                        False  False   \n",
       "4     False           False                        False  False   \n",
       "..      ...             ...                          ...    ...   \n",
       "995   False           False                        False  False   \n",
       "996   False           False                        False  False   \n",
       "997   False           False                        False  False   \n",
       "998   False           False                        False  False   \n",
       "999   False           False                        False  False   \n",
       "\n",
       "     test preparation course  math score  reading score  writing score  \n",
       "0                      False       False          False          False  \n",
       "1                      False       False          False          False  \n",
       "2                      False       False          False          False  \n",
       "3                      False       False          False          False  \n",
       "4                      False       False          False          False  \n",
       "..                       ...         ...            ...            ...  \n",
       "995                    False       False          False          False  \n",
       "996                    False       False          False          False  \n",
       "997                    False       False          False          False  \n",
       "998                    False       False          False          False  \n",
       "999                    False       False          False          False  \n",
       "\n",
       "[1000 rows x 8 columns]"
      ]
     },
     "execution_count": 20,
     "metadata": {},
     "output_type": "execute_result"
    }
   ],
   "source": [
    "df.isnull()"
   ]
  },
  {
   "cell_type": "code",
   "execution_count": 21,
   "id": "0f661c28",
   "metadata": {
    "execution": {
     "iopub.execute_input": "2023-02-12T13:55:04.392902Z",
     "iopub.status.busy": "2023-02-12T13:55:04.392453Z",
     "iopub.status.idle": "2023-02-12T13:55:04.401936Z",
     "shell.execute_reply": "2023-02-12T13:55:04.400724Z"
    },
    "papermill": {
     "duration": 0.028329,
     "end_time": "2023-02-12T13:55:04.404425",
     "exception": false,
     "start_time": "2023-02-12T13:55:04.376096",
     "status": "completed"
    },
    "tags": []
   },
   "outputs": [
    {
     "data": {
      "text/plain": [
       "gender                         0\n",
       "race/ethnicity                 0\n",
       "parental level of education    0\n",
       "lunch                          0\n",
       "test preparation course        0\n",
       "math score                     0\n",
       "reading score                  0\n",
       "writing score                  0\n",
       "dtype: int64"
      ]
     },
     "execution_count": 21,
     "metadata": {},
     "output_type": "execute_result"
    }
   ],
   "source": [
    "df.isnull().sum()"
   ]
  },
  {
   "cell_type": "code",
   "execution_count": 22,
   "id": "c6eb19b1",
   "metadata": {
    "execution": {
     "iopub.execute_input": "2023-02-12T13:55:04.436225Z",
     "iopub.status.busy": "2023-02-12T13:55:04.435820Z",
     "iopub.status.idle": "2023-02-12T13:55:04.449177Z",
     "shell.execute_reply": "2023-02-12T13:55:04.448190Z"
    },
    "papermill": {
     "duration": 0.032085,
     "end_time": "2023-02-12T13:55:04.451328",
     "exception": false,
     "start_time": "2023-02-12T13:55:04.419243",
     "status": "completed"
    },
    "tags": []
   },
   "outputs": [
    {
     "data": {
      "text/html": [
       "<div>\n",
       "<style scoped>\n",
       "    .dataframe tbody tr th:only-of-type {\n",
       "        vertical-align: middle;\n",
       "    }\n",
       "\n",
       "    .dataframe tbody tr th {\n",
       "        vertical-align: top;\n",
       "    }\n",
       "\n",
       "    .dataframe thead th {\n",
       "        text-align: right;\n",
       "    }\n",
       "</style>\n",
       "<table border=\"1\" class=\"dataframe\">\n",
       "  <thead>\n",
       "    <tr style=\"text-align: right;\">\n",
       "      <th></th>\n",
       "      <th>gender</th>\n",
       "      <th>race/ethnicity</th>\n",
       "      <th>parental level of education</th>\n",
       "      <th>lunch</th>\n",
       "      <th>test preparation course</th>\n",
       "      <th>math score</th>\n",
       "      <th>reading score</th>\n",
       "      <th>writing score</th>\n",
       "    </tr>\n",
       "  </thead>\n",
       "  <tbody>\n",
       "    <tr>\n",
       "      <th>0</th>\n",
       "      <td>male</td>\n",
       "      <td>group A</td>\n",
       "      <td>high school</td>\n",
       "      <td>standard</td>\n",
       "      <td>completed</td>\n",
       "      <td>67</td>\n",
       "      <td>67</td>\n",
       "      <td>63</td>\n",
       "    </tr>\n",
       "  </tbody>\n",
       "</table>\n",
       "</div>"
      ],
      "text/plain": [
       "  gender race/ethnicity parental level of education     lunch  \\\n",
       "0   male        group A                 high school  standard   \n",
       "\n",
       "  test preparation course  math score  reading score  writing score  \n",
       "0               completed          67             67             63  "
      ]
     },
     "execution_count": 22,
     "metadata": {},
     "output_type": "execute_result"
    }
   ],
   "source": [
    "df.head(1)"
   ]
  },
  {
   "cell_type": "code",
   "execution_count": 23,
   "id": "bebdec22",
   "metadata": {
    "execution": {
     "iopub.execute_input": "2023-02-12T13:55:04.483849Z",
     "iopub.status.busy": "2023-02-12T13:55:04.483407Z",
     "iopub.status.idle": "2023-02-12T13:55:04.497261Z",
     "shell.execute_reply": "2023-02-12T13:55:04.496139Z"
    },
    "papermill": {
     "duration": 0.032689,
     "end_time": "2023-02-12T13:55:04.499553",
     "exception": false,
     "start_time": "2023-02-12T13:55:04.466864",
     "status": "completed"
    },
    "tags": []
   },
   "outputs": [
    {
     "data": {
      "text/html": [
       "<div>\n",
       "<style scoped>\n",
       "    .dataframe tbody tr th:only-of-type {\n",
       "        vertical-align: middle;\n",
       "    }\n",
       "\n",
       "    .dataframe tbody tr th {\n",
       "        vertical-align: top;\n",
       "    }\n",
       "\n",
       "    .dataframe thead th {\n",
       "        text-align: right;\n",
       "    }\n",
       "</style>\n",
       "<table border=\"1\" class=\"dataframe\">\n",
       "  <thead>\n",
       "    <tr style=\"text-align: right;\">\n",
       "      <th></th>\n",
       "      <th>gender</th>\n",
       "      <th>race/ethnicity</th>\n",
       "      <th>parental level of education</th>\n",
       "      <th>lunch</th>\n",
       "      <th>test preparation course</th>\n",
       "      <th>math score</th>\n",
       "      <th>reading score</th>\n",
       "      <th>writing score</th>\n",
       "    </tr>\n",
       "  </thead>\n",
       "  <tbody>\n",
       "    <tr>\n",
       "      <th>999</th>\n",
       "      <td>male</td>\n",
       "      <td>group A</td>\n",
       "      <td>some college</td>\n",
       "      <td>standard</td>\n",
       "      <td>completed</td>\n",
       "      <td>65</td>\n",
       "      <td>60</td>\n",
       "      <td>62</td>\n",
       "    </tr>\n",
       "  </tbody>\n",
       "</table>\n",
       "</div>"
      ],
      "text/plain": [
       "    gender race/ethnicity parental level of education     lunch  \\\n",
       "999   male        group A                some college  standard   \n",
       "\n",
       "    test preparation course  math score  reading score  writing score  \n",
       "999               completed          65             60             62  "
      ]
     },
     "execution_count": 23,
     "metadata": {},
     "output_type": "execute_result"
    }
   ],
   "source": [
    "df.tail(1)"
   ]
  },
  {
   "cell_type": "code",
   "execution_count": 24,
   "id": "1d7ffeda",
   "metadata": {
    "execution": {
     "iopub.execute_input": "2023-02-12T13:55:04.534964Z",
     "iopub.status.busy": "2023-02-12T13:55:04.534426Z",
     "iopub.status.idle": "2023-02-12T13:55:04.546005Z",
     "shell.execute_reply": "2023-02-12T13:55:04.544756Z"
    },
    "papermill": {
     "duration": 0.032263,
     "end_time": "2023-02-12T13:55:04.548237",
     "exception": false,
     "start_time": "2023-02-12T13:55:04.515974",
     "status": "completed"
    },
    "tags": []
   },
   "outputs": [
    {
     "data": {
      "text/plain": [
       "array(['male', 'female'], dtype=object)"
      ]
     },
     "execution_count": 24,
     "metadata": {},
     "output_type": "execute_result"
    }
   ],
   "source": [
    "df['gender'].unique()"
   ]
  },
  {
   "cell_type": "code",
   "execution_count": 25,
   "id": "3bbeaa0f",
   "metadata": {
    "execution": {
     "iopub.execute_input": "2023-02-12T13:55:04.587397Z",
     "iopub.status.busy": "2023-02-12T13:55:04.586299Z",
     "iopub.status.idle": "2023-02-12T13:55:04.593971Z",
     "shell.execute_reply": "2023-02-12T13:55:04.592960Z"
    },
    "papermill": {
     "duration": 0.030136,
     "end_time": "2023-02-12T13:55:04.596148",
     "exception": false,
     "start_time": "2023-02-12T13:55:04.566012",
     "status": "completed"
    },
    "tags": []
   },
   "outputs": [
    {
     "data": {
      "text/plain": [
       "array(['group A', 'group D', 'group E', 'group B', 'group C'],\n",
       "      dtype=object)"
      ]
     },
     "execution_count": 25,
     "metadata": {},
     "output_type": "execute_result"
    }
   ],
   "source": [
    "df['race/ethnicity'].unique()"
   ]
  },
  {
   "cell_type": "code",
   "execution_count": 26,
   "id": "735968b9",
   "metadata": {
    "execution": {
     "iopub.execute_input": "2023-02-12T13:55:04.627904Z",
     "iopub.status.busy": "2023-02-12T13:55:04.627489Z",
     "iopub.status.idle": "2023-02-12T13:55:04.634224Z",
     "shell.execute_reply": "2023-02-12T13:55:04.633505Z"
    },
    "papermill": {
     "duration": 0.024925,
     "end_time": "2023-02-12T13:55:04.636214",
     "exception": false,
     "start_time": "2023-02-12T13:55:04.611289",
     "status": "completed"
    },
    "tags": []
   },
   "outputs": [
    {
     "data": {
      "text/plain": [
       "array(['high school', 'some high school', 'some college',\n",
       "       \"associate's degree\", \"bachelor's degree\", \"master's degree\"],\n",
       "      dtype=object)"
      ]
     },
     "execution_count": 26,
     "metadata": {},
     "output_type": "execute_result"
    }
   ],
   "source": [
    "df['parental level of education'].unique()"
   ]
  },
  {
   "cell_type": "code",
   "execution_count": 27,
   "id": "6fae2eb8",
   "metadata": {
    "execution": {
     "iopub.execute_input": "2023-02-12T13:55:04.669074Z",
     "iopub.status.busy": "2023-02-12T13:55:04.668712Z",
     "iopub.status.idle": "2023-02-12T13:55:04.677338Z",
     "shell.execute_reply": "2023-02-12T13:55:04.676066Z"
    },
    "papermill": {
     "duration": 0.02752,
     "end_time": "2023-02-12T13:55:04.679527",
     "exception": false,
     "start_time": "2023-02-12T13:55:04.652007",
     "status": "completed"
    },
    "tags": []
   },
   "outputs": [
    {
     "data": {
      "text/plain": [
       "array([ 67,  40,  59,  77,  78,  63,  62,  93,  47,  99,  80,  74,  81,\n",
       "        69,  58,  54,  23,  39,  83,  71,  44,  46,  51,  53,  33,  87,\n",
       "        65,  79,  68,  57,  98, 100,  60,  64,  52,  36,  56,  88,  42,\n",
       "        76,  49,  72,  31,  32,  97,  94,  95,  45,  75,  66,  70,  82,\n",
       "        92,  30,  41,  43,  55,  73,  48,  86,  84,  50,  89,  91,  85,\n",
       "        61,  35,  90,  96,  13,  38,  28,  26,  37,  29,  34,  25])"
      ]
     },
     "execution_count": 27,
     "metadata": {},
     "output_type": "execute_result"
    }
   ],
   "source": [
    "df['math score'].unique()"
   ]
  },
  {
   "cell_type": "code",
   "execution_count": 28,
   "id": "d838c4a1",
   "metadata": {
    "execution": {
     "iopub.execute_input": "2023-02-12T13:55:04.711942Z",
     "iopub.status.busy": "2023-02-12T13:55:04.711533Z",
     "iopub.status.idle": "2023-02-12T13:55:04.718992Z",
     "shell.execute_reply": "2023-02-12T13:55:04.717901Z"
    },
    "papermill": {
     "duration": 0.026157,
     "end_time": "2023-02-12T13:55:04.721092",
     "exception": false,
     "start_time": "2023-02-12T13:55:04.694935",
     "status": "completed"
    },
    "tags": []
   },
   "outputs": [
    {
     "data": {
      "text/plain": [
       "array([ 67,  59,  60,  78,  73,  77,  88,  56,  42,  83,  87,  74,  61,\n",
       "        47,  62,  44,  32,  76,  52,  69,  55,  38,  45,  68,  89,  54,\n",
       "        79,  41,  65,  81,  75,  70,  46,  63,  72,  58,  53,  57,  80,\n",
       "        51,  66,  82,  93,  64,  91,  43,  71, 100,  50,  33,  34,  90,\n",
       "        84,  95,  98,  92,  85,  49,  86,  48,  94,  36,  28,  39,  29,\n",
       "        96,  97,  40,  27,  37,  99,  31,  35])"
      ]
     },
     "execution_count": 28,
     "metadata": {},
     "output_type": "execute_result"
    }
   ],
   "source": [
    "df['reading score'].unique()"
   ]
  },
  {
   "cell_type": "code",
   "execution_count": 29,
   "id": "8e377b95",
   "metadata": {
    "execution": {
     "iopub.execute_input": "2023-02-12T13:55:04.754031Z",
     "iopub.status.busy": "2023-02-12T13:55:04.753639Z",
     "iopub.status.idle": "2023-02-12T13:55:04.760550Z",
     "shell.execute_reply": "2023-02-12T13:55:04.759399Z"
    },
    "papermill": {
     "duration": 0.026119,
     "end_time": "2023-02-12T13:55:04.762816",
     "exception": false,
     "start_time": "2023-02-12T13:55:04.736697",
     "status": "completed"
    },
    "tags": []
   },
   "outputs": [
    {
     "data": {
      "text/plain": [
       "100"
      ]
     },
     "execution_count": 29,
     "metadata": {},
     "output_type": "execute_result"
    }
   ],
   "source": [
    "df['reading score'].max()"
   ]
  },
  {
   "cell_type": "code",
   "execution_count": 30,
   "id": "5d184a80",
   "metadata": {
    "execution": {
     "iopub.execute_input": "2023-02-12T13:55:04.796258Z",
     "iopub.status.busy": "2023-02-12T13:55:04.795881Z",
     "iopub.status.idle": "2023-02-12T13:55:04.802820Z",
     "shell.execute_reply": "2023-02-12T13:55:04.801996Z"
    },
    "papermill": {
     "duration": 0.026241,
     "end_time": "2023-02-12T13:55:04.804895",
     "exception": false,
     "start_time": "2023-02-12T13:55:04.778654",
     "status": "completed"
    },
    "tags": []
   },
   "outputs": [
    {
     "data": {
      "text/plain": [
       "27"
      ]
     },
     "execution_count": 30,
     "metadata": {},
     "output_type": "execute_result"
    }
   ],
   "source": [
    "df['reading score'].min()"
   ]
  },
  {
   "cell_type": "code",
   "execution_count": 31,
   "id": "4eb89a8c",
   "metadata": {
    "execution": {
     "iopub.execute_input": "2023-02-12T13:55:04.838171Z",
     "iopub.status.busy": "2023-02-12T13:55:04.837751Z",
     "iopub.status.idle": "2023-02-12T13:55:04.844894Z",
     "shell.execute_reply": "2023-02-12T13:55:04.844080Z"
    },
    "papermill": {
     "duration": 0.026281,
     "end_time": "2023-02-12T13:55:04.846908",
     "exception": false,
     "start_time": "2023-02-12T13:55:04.820627",
     "status": "completed"
    },
    "tags": []
   },
   "outputs": [
    {
     "data": {
      "text/plain": [
       "array([ 63,  55,  50,  68,  76,  84,  65,  45,  85,  90,  73,  57,  42,\n",
       "        44,  31,  88,  54,  32,  56,  60,  89,  51,  77,  39,  71,  74,\n",
       "        75,  72,  64,  82,  70,  87,  78,  49,  47,  62,  83,  48,  59,\n",
       "        97,  81,  67,  69,  61,  93, 100,  53,  79,  58,  33,  86,  66,\n",
       "        46,  80,  91,  92,  95,  99,  96,  28,  52,  24,  40,  43,  94,\n",
       "        23,  38,  30,  35,  41,  98,  36,  27,  26,  34,  37])"
      ]
     },
     "execution_count": 31,
     "metadata": {},
     "output_type": "execute_result"
    }
   ],
   "source": [
    "df['writing score'].unique()\n"
   ]
  },
  {
   "cell_type": "code",
   "execution_count": 32,
   "id": "cdf4a40b",
   "metadata": {
    "execution": {
     "iopub.execute_input": "2023-02-12T13:55:04.880707Z",
     "iopub.status.busy": "2023-02-12T13:55:04.880262Z",
     "iopub.status.idle": "2023-02-12T13:55:04.888067Z",
     "shell.execute_reply": "2023-02-12T13:55:04.886995Z"
    },
    "papermill": {
     "duration": 0.027283,
     "end_time": "2023-02-12T13:55:04.890162",
     "exception": false,
     "start_time": "2023-02-12T13:55:04.862879",
     "status": "completed"
    },
    "tags": []
   },
   "outputs": [
    {
     "data": {
      "text/plain": [
       "23"
      ]
     },
     "execution_count": 32,
     "metadata": {},
     "output_type": "execute_result"
    }
   ],
   "source": [
    "df['writing score'].min()"
   ]
  },
  {
   "cell_type": "code",
   "execution_count": 33,
   "id": "354c3535",
   "metadata": {
    "execution": {
     "iopub.execute_input": "2023-02-12T13:55:04.924336Z",
     "iopub.status.busy": "2023-02-12T13:55:04.923895Z",
     "iopub.status.idle": "2023-02-12T13:55:05.836858Z",
     "shell.execute_reply": "2023-02-12T13:55:05.835731Z"
    },
    "papermill": {
     "duration": 0.933275,
     "end_time": "2023-02-12T13:55:05.839537",
     "exception": false,
     "start_time": "2023-02-12T13:55:04.906262",
     "status": "completed"
    },
    "tags": []
   },
   "outputs": [],
   "source": [
    "import seaborn as sns\n",
    "import matplotlib.pyplot as plt"
   ]
  },
  {
   "cell_type": "code",
   "execution_count": 34,
   "id": "afcf0255",
   "metadata": {
    "execution": {
     "iopub.execute_input": "2023-02-12T13:55:05.873189Z",
     "iopub.status.busy": "2023-02-12T13:55:05.872794Z",
     "iopub.status.idle": "2023-02-12T13:55:06.028453Z",
     "shell.execute_reply": "2023-02-12T13:55:06.027157Z"
    },
    "papermill": {
     "duration": 0.175591,
     "end_time": "2023-02-12T13:55:06.031250",
     "exception": false,
     "start_time": "2023-02-12T13:55:05.855659",
     "status": "completed"
    },
    "tags": []
   },
   "outputs": [
    {
     "name": "stderr",
     "output_type": "stream",
     "text": [
      "/opt/conda/lib/python3.7/site-packages/seaborn/_decorators.py:43: FutureWarning: Pass the following variable as a keyword arg: x. From version 0.12, the only valid positional argument will be `data`, and passing other arguments without an explicit keyword will result in an error or misinterpretation.\n",
      "  FutureWarning\n"
     ]
    },
    {
     "data": {
      "text/plain": [
       "<AxesSubplot:xlabel='gender', ylabel='count'>"
      ]
     },
     "execution_count": 34,
     "metadata": {},
     "output_type": "execute_result"
    },
    {
     "data": {
      "image/png": "[encoded data removed]",
      "text/plain": [
       "<Figure size 432x288 with 1 Axes>"
      ]
     },
     "metadata": {
      "needs_background": "light"
     },
     "output_type": "display_data"
    }
   ],
   "source": [
    "sns.countplot(df['gender'])"
   ]
  },
  {
   "cell_type": "code",
   "execution_count": 35,
   "id": "81e218f1",
   "metadata": {
    "execution": {
     "iopub.execute_input": "2023-02-12T13:55:06.066437Z",
     "iopub.status.busy": "2023-02-12T13:55:06.065727Z",
     "iopub.status.idle": "2023-02-12T13:55:06.212341Z",
     "shell.execute_reply": "2023-02-12T13:55:06.211153Z"
    },
    "papermill": {
     "duration": 0.166876,
     "end_time": "2023-02-12T13:55:06.214905",
     "exception": false,
     "start_time": "2023-02-12T13:55:06.048029",
     "status": "completed"
    },
    "tags": []
   },
   "outputs": [
    {
     "name": "stderr",
     "output_type": "stream",
     "text": [
      "/opt/conda/lib/python3.7/site-packages/seaborn/_decorators.py:43: FutureWarning: Pass the following variable as a keyword arg: x. From version 0.12, the only valid positional argument will be `data`, and passing other arguments without an explicit keyword will result in an error or misinterpretation.\n",
      "  FutureWarning\n"
     ]
    },
    {
     "data": {
      "text/plain": [
       "<AxesSubplot:xlabel='race/ethnicity', ylabel='count'>"
      ]
     },
     "execution_count": 35,
     "metadata": {},
     "output_type": "execute_result"
    },
    {
     "data": {
      "image/png": "[encoded data removed]",
      "text/plain": [
       "<Figure size 432x288 with 1 Axes>"
      ]
     },
     "metadata": {
      "needs_background": "light"
     },
     "output_type": "display_data"
    }
   ],
   "source": [
    "sns.countplot(df['race/ethnicity'])"
   ]
  },
  {
   "cell_type": "code",
   "execution_count": 36,
   "id": "73c9b5da",
   "metadata": {
    "execution": {
     "iopub.execute_input": "2023-02-12T13:55:06.251188Z",
     "iopub.status.busy": "2023-02-12T13:55:06.250366Z",
     "iopub.status.idle": "2023-02-12T13:55:06.411220Z",
     "shell.execute_reply": "2023-02-12T13:55:06.410339Z"
    },
    "papermill": {
     "duration": 0.181856,
     "end_time": "2023-02-12T13:55:06.413648",
     "exception": false,
     "start_time": "2023-02-12T13:55:06.231792",
     "status": "completed"
    },
    "tags": []
   },
   "outputs": [
    {
     "name": "stderr",
     "output_type": "stream",
     "text": [
      "/opt/conda/lib/python3.7/site-packages/seaborn/_decorators.py:43: FutureWarning: Pass the following variable as a keyword arg: x. From version 0.12, the only valid positional argument will be `data`, and passing other arguments without an explicit keyword will result in an error or misinterpretation.\n",
      "  FutureWarning\n"
     ]
    },
    {
     "data": {
      "text/plain": [
       "<AxesSubplot:xlabel='parental level of education', ylabel='count'>"
      ]
     },
     "execution_count": 36,
     "metadata": {},
     "output_type": "execute_result"
    },
    {
     "data": {
      "image/png": "[encoded data removed]",
      "text/plain": [
       "<Figure size 720x360 with 1 Axes>"
      ]
     },
     "metadata": {
      "needs_background": "light"
     },
     "output_type": "display_data"
    }
   ],
   "source": [
    "plt.figure(figsize=(10,5))\n",
    "sns.countplot(df['parental level of education'])"
   ]
  },
  {
   "cell_type": "code",
   "execution_count": 37,
   "id": "0c8afa7b",
   "metadata": {
    "execution": {
     "iopub.execute_input": "2023-02-12T13:55:06.450667Z",
     "iopub.status.busy": "2023-02-12T13:55:06.449904Z",
     "iopub.status.idle": "2023-02-12T13:55:06.717173Z",
     "shell.execute_reply": "2023-02-12T13:55:06.716051Z"
    },
    "papermill": {
     "duration": 0.288525,
     "end_time": "2023-02-12T13:55:06.719557",
     "exception": false,
     "start_time": "2023-02-12T13:55:06.431032",
     "status": "completed"
    },
    "tags": []
   },
   "outputs": [
    {
     "data": {
      "text/plain": [
       "<AxesSubplot:xlabel='math score', ylabel='Count'>"
      ]
     },
     "execution_count": 37,
     "metadata": {},
     "output_type": "execute_result"
    },
    {
     "data": {
      "image/png": "[encoded data removed]",
      "text/plain": [
       "<Figure size 432x288 with 1 Axes>"
      ]
     },
     "metadata": {
      "needs_background": "light"
     },
     "output_type": "display_data"
    }
   ],
   "source": [
    "sns.histplot(df['math score'])"
   ]
  },
  {
   "cell_type": "code",
   "execution_count": 38,
   "id": "1a432f95",
   "metadata": {
    "execution": {
     "iopub.execute_input": "2023-02-12T13:55:06.756628Z",
     "iopub.status.busy": "2023-02-12T13:55:06.756182Z",
     "iopub.status.idle": "2023-02-12T13:55:07.033967Z",
     "shell.execute_reply": "2023-02-12T13:55:07.033191Z"
    },
    "papermill": {
     "duration": 0.29904,
     "end_time": "2023-02-12T13:55:07.036180",
     "exception": false,
     "start_time": "2023-02-12T13:55:06.737140",
     "status": "completed"
    },
    "tags": []
   },
   "outputs": [
    {
     "data": {
      "text/plain": [
       "<AxesSubplot:xlabel='reading score', ylabel='Count'>"
      ]
     },
     "execution_count": 38,
     "metadata": {},
     "output_type": "execute_result"
    },
    {
     "data": {
      "image/png": "[encoded data removed]",
      "text/plain": [
       "<Figure size 432x288 with 1 Axes>"
      ]
     },
     "metadata": {
      "needs_background": "light"
     },
     "output_type": "display_data"
    }
   ],
   "source": [
    "sns.histplot(df['reading score'])"
   ]
  },
  {
   "cell_type": "code",
   "execution_count": 39,
   "id": "5990ec5b",
   "metadata": {
    "execution": {
     "iopub.execute_input": "2023-02-12T13:55:07.074794Z",
     "iopub.status.busy": "2023-02-12T13:55:07.074133Z",
     "iopub.status.idle": "2023-02-12T13:55:07.342704Z",
     "shell.execute_reply": "2023-02-12T13:55:07.341599Z"
    },
    "papermill": {
     "duration": 0.290594,
     "end_time": "2023-02-12T13:55:07.345164",
     "exception": false,
     "start_time": "2023-02-12T13:55:07.054570",
     "status": "completed"
    },
    "tags": []
   },
   "outputs": [
    {
     "data": {
      "text/plain": [
       "<AxesSubplot:xlabel='writing score', ylabel='Count'>"
      ]
     },
     "execution_count": 39,
     "metadata": {},
     "output_type": "execute_result"
    },
    {
     "data": {
      "image/png": "[encoded data removed]",
      "text/plain": [
       "<Figure size 432x288 with 1 Axes>"
      ]
     },
     "metadata": {
      "needs_background": "light"
     },
     "output_type": "display_data"
    }
   ],
   "source": [
    "sns.histplot(df['writing score'])"
   ]
  },
  {
   "cell_type": "code",
   "execution_count": 40,
   "id": "efd5e4fa",
   "metadata": {
    "execution": {
     "iopub.execute_input": "2023-02-12T13:55:07.384435Z",
     "iopub.status.busy": "2023-02-12T13:55:07.384018Z",
     "iopub.status.idle": "2023-02-12T13:55:07.609680Z",
     "shell.execute_reply": "2023-02-12T13:55:07.608554Z"
    },
    "papermill": {
     "duration": 0.248354,
     "end_time": "2023-02-12T13:55:07.611929",
     "exception": false,
     "start_time": "2023-02-12T13:55:07.363575",
     "status": "completed"
    },
    "tags": []
   },
   "outputs": [
    {
     "data": {
      "text/plain": [
       "<AxesSubplot:xlabel='parental level of education', ylabel='Count'>"
      ]
     },
     "execution_count": 40,
     "metadata": {},
     "output_type": "execute_result"
    },
    {
     "data": {
      "image/png": "[encoded data removed]",
      "text/plain": [
       "<Figure size 432x288 with 1 Axes>"
      ]
     },
     "metadata": {
      "needs_background": "light"
     },
     "output_type": "display_data"
    }
   ],
   "source": [
    "sns.histplot(df['parental level of education'])\n"
   ]
  },
  {
   "cell_type": "code",
   "execution_count": 41,
   "id": "af924036",
   "metadata": {
    "execution": {
     "iopub.execute_input": "2023-02-12T13:55:07.650991Z",
     "iopub.status.busy": "2023-02-12T13:55:07.650342Z",
     "iopub.status.idle": "2023-02-12T13:55:07.836616Z",
     "shell.execute_reply": "2023-02-12T13:55:07.835469Z"
    },
    "papermill": {
     "duration": 0.208622,
     "end_time": "2023-02-12T13:55:07.839042",
     "exception": false,
     "start_time": "2023-02-12T13:55:07.630420",
     "status": "completed"
    },
    "tags": []
   },
   "outputs": [
    {
     "name": "stderr",
     "output_type": "stream",
     "text": [
      "/opt/conda/lib/python3.7/site-packages/seaborn/_decorators.py:43: FutureWarning: Pass the following variable as a keyword arg: x. From version 0.12, the only valid positional argument will be `data`, and passing other arguments without an explicit keyword will result in an error or misinterpretation.\n",
      "  FutureWarning\n"
     ]
    },
    {
     "data": {
      "text/plain": [
       "<AxesSubplot:xlabel='lunch', ylabel='count'>"
      ]
     },
     "execution_count": 41,
     "metadata": {},
     "output_type": "execute_result"
    },
    {
     "data": {
      "image/png": "[encoded data removed]",
      "text/plain": [
       "<Figure size 432x288 with 1 Axes>"
      ]
     },
     "metadata": {
      "needs_background": "light"
     },
     "output_type": "display_data"
    }
   ],
   "source": [
    "sns.countplot(df['lunch'])"
   ]
  },
  {
   "cell_type": "code",
   "execution_count": 42,
   "id": "affe15b8",
   "metadata": {
    "execution": {
     "iopub.execute_input": "2023-02-12T13:55:07.878235Z",
     "iopub.status.busy": "2023-02-12T13:55:07.877619Z",
     "iopub.status.idle": "2023-02-12T13:55:08.067952Z",
     "shell.execute_reply": "2023-02-12T13:55:08.066746Z"
    },
    "papermill": {
     "duration": 0.212608,
     "end_time": "2023-02-12T13:55:08.070254",
     "exception": false,
     "start_time": "2023-02-12T13:55:07.857646",
     "status": "completed"
    },
    "tags": []
   },
   "outputs": [
    {
     "name": "stderr",
     "output_type": "stream",
     "text": [
      "/opt/conda/lib/python3.7/site-packages/seaborn/_decorators.py:43: FutureWarning: Pass the following variable as a keyword arg: x. From version 0.12, the only valid positional argument will be `data`, and passing other arguments without an explicit keyword will result in an error or misinterpretation.\n",
      "  FutureWarning\n"
     ]
    },
    {
     "data": {
      "text/plain": [
       "<AxesSubplot:xlabel='test preparation course', ylabel='count'>"
      ]
     },
     "execution_count": 42,
     "metadata": {},
     "output_type": "execute_result"
    },
    {
     "data": {
      "image/png": "[encoded data removed]",
      "text/plain": [
       "<Figure size 432x288 with 1 Axes>"
      ]
     },
     "metadata": {
      "needs_background": "light"
     },
     "output_type": "display_data"
    }
   ],
   "source": [
    "sns.countplot(df['test preparation course'])"
   ]
  },
  {
   "cell_type": "code",
   "execution_count": 43,
   "id": "3be27dc3",
   "metadata": {
    "execution": {
     "iopub.execute_input": "2023-02-12T13:55:08.110418Z",
     "iopub.status.busy": "2023-02-12T13:55:08.109777Z",
     "iopub.status.idle": "2023-02-12T13:55:08.363022Z",
     "shell.execute_reply": "2023-02-12T13:55:08.361862Z"
    },
    "papermill": {
     "duration": 0.275917,
     "end_time": "2023-02-12T13:55:08.365268",
     "exception": false,
     "start_time": "2023-02-12T13:55:08.089351",
     "status": "completed"
    },
    "tags": []
   },
   "outputs": [
    {
     "data": {
      "text/plain": [
       "<AxesSubplot:xlabel='gender', ylabel='writing score'>"
      ]
     },
     "execution_count": 43,
     "metadata": {},
     "output_type": "execute_result"
    },
    {
     "data": {
      "image/png": "[encoded data removed]",
      "text/plain": [
       "<Figure size 432x288 with 1 Axes>"
      ]
     },
     "metadata": {
      "needs_background": "light"
     },
     "output_type": "display_data"
    }
   ],
   "source": [
    "sns.barplot (x=\"gender\",y=\"writing score\",data=df)"
   ]
  },
  {
   "cell_type": "code",
   "execution_count": 44,
   "id": "66940b98",
   "metadata": {
    "execution": {
     "iopub.execute_input": "2023-02-12T13:55:08.408557Z",
     "iopub.status.busy": "2023-02-12T13:55:08.407537Z",
     "iopub.status.idle": "2023-02-12T13:55:08.623949Z",
     "shell.execute_reply": "2023-02-12T13:55:08.623120Z"
    },
    "papermill": {
     "duration": 0.240984,
     "end_time": "2023-02-12T13:55:08.626250",
     "exception": false,
     "start_time": "2023-02-12T13:55:08.385266",
     "status": "completed"
    },
    "tags": []
   },
   "outputs": [
    {
     "data": {
      "text/plain": [
       "<AxesSubplot:xlabel='parental level of education', ylabel='count'>"
      ]
     },
     "execution_count": 44,
     "metadata": {},
     "output_type": "execute_result"
    },
    {
     "data": {
      "image/png": "[encoded data removed]",
      "text/plain": [
       "<Figure size 432x288 with 1 Axes>"
      ]
     },
     "metadata": {
      "needs_background": "light"
     },
     "output_type": "display_data"
    }
   ],
   "source": [
    "sns.countplot(x=\"parental level of education\", data=df)"
   ]
  },
  {
   "cell_type": "code",
   "execution_count": 45,
   "id": "80bfc0a1",
   "metadata": {
    "execution": {
     "iopub.execute_input": "2023-02-12T13:55:08.669279Z",
     "iopub.status.busy": "2023-02-12T13:55:08.668668Z",
     "iopub.status.idle": "2023-02-12T13:55:08.870391Z",
     "shell.execute_reply": "2023-02-12T13:55:08.869176Z"
    },
    "papermill": {
     "duration": 0.225875,
     "end_time": "2023-02-12T13:55:08.872835",
     "exception": false,
     "start_time": "2023-02-12T13:55:08.646960",
     "status": "completed"
    },
    "tags": []
   },
   "outputs": [
    {
     "name": "stderr",
     "output_type": "stream",
     "text": [
      "/opt/conda/lib/python3.7/site-packages/seaborn/_decorators.py:43: FutureWarning: Pass the following variable as a keyword arg: x. From version 0.12, the only valid positional argument will be `data`, and passing other arguments without an explicit keyword will result in an error or misinterpretation.\n",
      "  FutureWarning\n"
     ]
    },
    {
     "data": {
      "text/plain": [
       "<AxesSubplot:xlabel='lunch', ylabel='count'>"
      ]
     },
     "execution_count": 45,
     "metadata": {},
     "output_type": "execute_result"
    },
    {
     "data": {
      "image/png": "[encoded data removed]",
      "text/plain": [
       "<Figure size 432x288 with 1 Axes>"
      ]
     },
     "metadata": {
      "needs_background": "light"
     },
     "output_type": "display_data"
    }
   ],
   "source": [
    "sns.countplot(df[\"lunch\"])"
   ]
  },
  {
   "cell_type": "code",
   "execution_count": 46,
   "id": "1c1fb27a",
   "metadata": {
    "execution": {
     "iopub.execute_input": "2023-02-12T13:55:08.916064Z",
     "iopub.status.busy": "2023-02-12T13:55:08.915237Z",
     "iopub.status.idle": "2023-02-12T13:55:09.166940Z",
     "shell.execute_reply": "2023-02-12T13:55:09.165259Z"
    },
    "papermill": {
     "duration": 0.276378,
     "end_time": "2023-02-12T13:55:09.169735",
     "exception": false,
     "start_time": "2023-02-12T13:55:08.893357",
     "status": "completed"
    },
    "tags": []
   },
   "outputs": [
    {
     "data": {
      "text/plain": [
       "<AxesSubplot:xlabel='gender', ylabel='math score'>"
      ]
     },
     "execution_count": 46,
     "metadata": {},
     "output_type": "execute_result"
    },
    {
     "data": {
      "image/png": "[encoded data removed]",
      "text/plain": [
       "<Figure size 432x288 with 1 Axes>"
      ]
     },
     "metadata": {
      "needs_background": "light"
     },
     "output_type": "display_data"
    }
   ],
   "source": [
    "sns.barplot(x=\"gender\",y=\"math score\" ,data=df)"
   ]
  },
  {
   "cell_type": "code",
   "execution_count": 47,
   "id": "c83bfdec",
   "metadata": {
    "execution": {
     "iopub.execute_input": "2023-02-12T13:55:09.214750Z",
     "iopub.status.busy": "2023-02-12T13:55:09.214202Z",
     "iopub.status.idle": "2023-02-12T13:55:09.494530Z",
     "shell.execute_reply": "2023-02-12T13:55:09.493387Z"
    },
    "papermill": {
     "duration": 0.305701,
     "end_time": "2023-02-12T13:55:09.496927",
     "exception": false,
     "start_time": "2023-02-12T13:55:09.191226",
     "status": "completed"
    },
    "tags": []
   },
   "outputs": [
    {
     "data": {
      "text/plain": [
       "<AxesSubplot:xlabel='gender', ylabel='reading score'>"
      ]
     },
     "execution_count": 47,
     "metadata": {},
     "output_type": "execute_result"
    },
    {
     "data": {
      "image/png": "[encoded data removed]",
      "text/plain": [
       "<Figure size 432x288 with 1 Axes>"
      ]
     },
     "metadata": {
      "needs_background": "light"
     },
     "output_type": "display_data"
    }
   ],
   "source": [
    "sns.barplot(x=\"gender\",y=\"reading score\" ,data=df)"
   ]
  },
  {
   "cell_type": "code",
   "execution_count": null,
   "id": "c10918ca",
   "metadata": {
    "papermill": {
     "duration": 0.020373,
     "end_time": "2023-02-12T13:55:09.538068",
     "exception": false,
     "start_time": "2023-02-12T13:55:09.517695",
     "status": "completed"
    },
    "tags": []
   },
   "outputs": [],
   "source": []
  },
  {
   "cell_type": "code",
   "execution_count": null,
   "id": "5597b72f",
   "metadata": {
    "papermill": {
     "duration": 0.020115,
     "end_time": "2023-02-12T13:55:09.578722",
     "exception": false,
     "start_time": "2023-02-12T13:55:09.558607",
     "status": "completed"
    },
    "tags": []
   },
   "outputs": [],
   "source": []
  },
  {
   "cell_type": "code",
   "execution_count": null,
   "id": "e178e5a3",
   "metadata": {
    "papermill": {
     "duration": 0.020102,
     "end_time": "2023-02-12T13:55:09.619187",
     "exception": false,
     "start_time": "2023-02-12T13:55:09.599085",
     "status": "completed"
    },
    "tags": []
   },
   "outputs": [],
   "source": []
  }
 ],
 "metadata": {
  "kernelspec": {
   "display_name": "Python 3",
   "language": "python",
   "name": "python3"
  },
  "language_info": {
   "codemirror_mode": {
    "name": "ipython",
    "version": 3
   },
   "file_extension": ".py",
   "mimetype": "text/x-python",
   "name": "python",
   "nbconvert_exporter": "python",
   "pygments_lexer": "ipython3",
   "version": "3.7.12"
  },
  "papermill": {
   "default_parameters": {},
   "duration": 15.172142,
   "end_time": "2023-02-12T13:55:10.360584",
   "environment_variables": {},
   "exception": null,
   "input_path": "__notebook__.ipynb",
   "output_path": "__notebook__.ipynb",
   "parameters": {},
   "start_time": "2023-02-12T13:54:55.188442",
   "version": "2.3.4"
  }
 },
 "nbformat": 4,
 "nbformat_minor": 5
}
