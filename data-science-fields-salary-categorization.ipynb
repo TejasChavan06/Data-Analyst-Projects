{
 "cells": [
  {
   "cell_type": "code",
   "execution_count": 1,
   "id": "46c28f28",
   "metadata": {
    "_cell_guid": "b1076dfc-b9ad-4769-8c92-a6c4dae69d19",
    "_uuid": "8f2839f25d086af736a60e9eeb907d3b93b6e0e5",
    "execution": {
     "iopub.execute_input": "2022-10-30T16:39:18.689564Z",
     "iopub.status.busy": "2022-10-30T16:39:18.689093Z",
     "iopub.status.idle": "2022-10-30T16:39:18.707917Z",
     "shell.execute_reply": "2022-10-30T16:39:18.706572Z"
    },
    "papermill": {
     "duration": 0.033359,
     "end_time": "2022-10-30T16:39:18.711324",
     "exception": false,
     "start_time": "2022-10-30T16:39:18.677965",
     "status": "completed"
    },
    "tags": []
   },
   "outputs": [
    {
     "name": "stdout",
     "output_type": "stream",
     "text": [
      "/kaggle/input/data-science-fields-salary-categorization/Data_Science_Fields_Salary_Categorization.csv\n"
     ]
    }
   ],
   "source": [
    "# This Python 3 environment comes with many helpful analytics libraries installed\n",
    "# It is defined by the kaggle/python Docker image: https://github.com/kaggle/docker-python\n",
    "# For example, here's several helpful packages to load\n",
    "\n",
    "import numpy as np # linear algebra\n",
    "import pandas as pd # data processing, CSV file I/O (e.g. pd.read_csv)\n",
    "\n",
    "# Input data files are available in the read-only \"../input/\" directory\n",
    "# For example, running this (by clicking run or pressing Shift+Enter) will list all files under the input directory\n",
    "\n",
    "import os\n",
    "for dirname, _, filenames in os.walk('/kaggle/input'):\n",
    "    for filename in filenames:\n",
    "        print(os.path.join(dirname, filename))\n",
    "\n",
    "# You can write up to 20GB to the current directory (/kaggle/working/) that gets preserved as output when you create a version using \"Save & Run All\" \n",
    "# You can also write temporary files to /kaggle/temp/, but they won't be saved outside of the current session"
   ]
  },
  {
   "cell_type": "code",
   "execution_count": 2,
   "id": "7da260f7",
   "metadata": {
    "execution": {
     "iopub.execute_input": "2022-10-30T16:39:18.729987Z",
     "iopub.status.busy": "2022-10-30T16:39:18.729226Z",
     "iopub.status.idle": "2022-10-30T16:39:18.783280Z",
     "shell.execute_reply": "2022-10-30T16:39:18.781948Z"
    },
    "papermill": {
     "duration": 0.065912,
     "end_time": "2022-10-30T16:39:18.785694",
     "exception": false,
     "start_time": "2022-10-30T16:39:18.719782",
     "status": "completed"
    },
    "tags": []
   },
   "outputs": [
    {
     "data": {
      "text/html": [
       "<div>\n",
       "<style scoped>\n",
       "    .dataframe tbody tr th:only-of-type {\n",
       "        vertical-align: middle;\n",
       "    }\n",
       "\n",
       "    .dataframe tbody tr th {\n",
       "        vertical-align: top;\n",
       "    }\n",
       "\n",
       "    .dataframe thead th {\n",
       "        text-align: right;\n",
       "    }\n",
       "</style>\n",
       "<table border=\"1\" class=\"dataframe\">\n",
       "  <thead>\n",
       "    <tr style=\"text-align: right;\">\n",
       "      <th></th>\n",
       "      <th>Unnamed: 0</th>\n",
       "      <th>Working_Year</th>\n",
       "      <th>Designation</th>\n",
       "      <th>Experience</th>\n",
       "      <th>Employment_Status</th>\n",
       "      <th>Salary_In_Rupees</th>\n",
       "      <th>Employee_Location</th>\n",
       "      <th>Company_Location</th>\n",
       "      <th>Company_Size</th>\n",
       "      <th>Remote_Working_Ratio</th>\n",
       "    </tr>\n",
       "  </thead>\n",
       "  <tbody>\n",
       "    <tr>\n",
       "      <th>0</th>\n",
       "      <td>1</td>\n",
       "      <td>2020</td>\n",
       "      <td>Data Scientist</td>\n",
       "      <td>MI</td>\n",
       "      <td>FT</td>\n",
       "      <td>6,352,272.00</td>\n",
       "      <td>DE</td>\n",
       "      <td>DE</td>\n",
       "      <td>L</td>\n",
       "      <td>0</td>\n",
       "    </tr>\n",
       "    <tr>\n",
       "      <th>1</th>\n",
       "      <td>2</td>\n",
       "      <td>2020</td>\n",
       "      <td>Machine Learning Scientist</td>\n",
       "      <td>SE</td>\n",
       "      <td>FT</td>\n",
       "      <td>20,688,070.00</td>\n",
       "      <td>JP</td>\n",
       "      <td>JP</td>\n",
       "      <td>S</td>\n",
       "      <td>0</td>\n",
       "    </tr>\n",
       "    <tr>\n",
       "      <th>2</th>\n",
       "      <td>3</td>\n",
       "      <td>2020</td>\n",
       "      <td>Big Data Engineer</td>\n",
       "      <td>SE</td>\n",
       "      <td>FT</td>\n",
       "      <td>8,674,985.00</td>\n",
       "      <td>GB</td>\n",
       "      <td>GB</td>\n",
       "      <td>M</td>\n",
       "      <td>50</td>\n",
       "    </tr>\n",
       "    <tr>\n",
       "      <th>3</th>\n",
       "      <td>4</td>\n",
       "      <td>2020</td>\n",
       "      <td>Product Data Analyst</td>\n",
       "      <td>MI</td>\n",
       "      <td>FT</td>\n",
       "      <td>1,591,390.00</td>\n",
       "      <td>HN</td>\n",
       "      <td>HN</td>\n",
       "      <td>S</td>\n",
       "      <td>0</td>\n",
       "    </tr>\n",
       "    <tr>\n",
       "      <th>4</th>\n",
       "      <td>5</td>\n",
       "      <td>2020</td>\n",
       "      <td>Machine Learning Engineer</td>\n",
       "      <td>SE</td>\n",
       "      <td>FT</td>\n",
       "      <td>11,935,425.00</td>\n",
       "      <td>US</td>\n",
       "      <td>US</td>\n",
       "      <td>L</td>\n",
       "      <td>50</td>\n",
       "    </tr>\n",
       "    <tr>\n",
       "      <th>...</th>\n",
       "      <td>...</td>\n",
       "      <td>...</td>\n",
       "      <td>...</td>\n",
       "      <td>...</td>\n",
       "      <td>...</td>\n",
       "      <td>...</td>\n",
       "      <td>...</td>\n",
       "      <td>...</td>\n",
       "      <td>...</td>\n",
       "      <td>...</td>\n",
       "    </tr>\n",
       "    <tr>\n",
       "      <th>602</th>\n",
       "      <td>603</td>\n",
       "      <td>2022</td>\n",
       "      <td>Data Engineer</td>\n",
       "      <td>SE</td>\n",
       "      <td>FT</td>\n",
       "      <td>12,253,703.00</td>\n",
       "      <td>US</td>\n",
       "      <td>US</td>\n",
       "      <td>M</td>\n",
       "      <td>100</td>\n",
       "    </tr>\n",
       "    <tr>\n",
       "      <th>603</th>\n",
       "      <td>604</td>\n",
       "      <td>2022</td>\n",
       "      <td>Data Engineer</td>\n",
       "      <td>SE</td>\n",
       "      <td>FT</td>\n",
       "      <td>10,025,757.00</td>\n",
       "      <td>US</td>\n",
       "      <td>US</td>\n",
       "      <td>M</td>\n",
       "      <td>100</td>\n",
       "    </tr>\n",
       "    <tr>\n",
       "      <th>604</th>\n",
       "      <td>605</td>\n",
       "      <td>2022</td>\n",
       "      <td>Data Analyst</td>\n",
       "      <td>SE</td>\n",
       "      <td>FT</td>\n",
       "      <td>10,264,466.00</td>\n",
       "      <td>US</td>\n",
       "      <td>US</td>\n",
       "      <td>M</td>\n",
       "      <td>0</td>\n",
       "    </tr>\n",
       "    <tr>\n",
       "      <th>605</th>\n",
       "      <td>606</td>\n",
       "      <td>2022</td>\n",
       "      <td>Data Analyst</td>\n",
       "      <td>SE</td>\n",
       "      <td>FT</td>\n",
       "      <td>11,935,425.00</td>\n",
       "      <td>US</td>\n",
       "      <td>US</td>\n",
       "      <td>M</td>\n",
       "      <td>100</td>\n",
       "    </tr>\n",
       "    <tr>\n",
       "      <th>606</th>\n",
       "      <td>607</td>\n",
       "      <td>2022</td>\n",
       "      <td>AI Scientist</td>\n",
       "      <td>MI</td>\n",
       "      <td>FT</td>\n",
       "      <td>15,913,900.00</td>\n",
       "      <td>IN</td>\n",
       "      <td>US</td>\n",
       "      <td>L</td>\n",
       "      <td>100</td>\n",
       "    </tr>\n",
       "  </tbody>\n",
       "</table>\n",
       "<p>607 rows × 10 columns</p>\n",
       "</div>"
      ],
      "text/plain": [
       "     Unnamed: 0  Working_Year                 Designation Experience  \\\n",
       "0             1          2020              Data Scientist         MI   \n",
       "1             2          2020  Machine Learning Scientist         SE   \n",
       "2             3          2020           Big Data Engineer         SE   \n",
       "3             4          2020        Product Data Analyst         MI   \n",
       "4             5          2020   Machine Learning Engineer         SE   \n",
       "..          ...           ...                         ...        ...   \n",
       "602         603          2022               Data Engineer         SE   \n",
       "603         604          2022               Data Engineer         SE   \n",
       "604         605          2022                Data Analyst         SE   \n",
       "605         606          2022                Data Analyst         SE   \n",
       "606         607          2022                AI Scientist         MI   \n",
       "\n",
       "    Employment_Status Salary_In_Rupees Employee_Location Company_Location  \\\n",
       "0                  FT     6,352,272.00                DE               DE   \n",
       "1                  FT    20,688,070.00                JP               JP   \n",
       "2                  FT     8,674,985.00                GB               GB   \n",
       "3                  FT     1,591,390.00                HN               HN   \n",
       "4                  FT    11,935,425.00                US               US   \n",
       "..                ...              ...               ...              ...   \n",
       "602                FT    12,253,703.00                US               US   \n",
       "603                FT    10,025,757.00                US               US   \n",
       "604                FT    10,264,466.00                US               US   \n",
       "605                FT    11,935,425.00                US               US   \n",
       "606                FT    15,913,900.00                IN               US   \n",
       "\n",
       "    Company_Size  Remote_Working_Ratio  \n",
       "0              L                     0  \n",
       "1              S                     0  \n",
       "2              M                    50  \n",
       "3              S                     0  \n",
       "4              L                    50  \n",
       "..           ...                   ...  \n",
       "602            M                   100  \n",
       "603            M                   100  \n",
       "604            M                     0  \n",
       "605            M                   100  \n",
       "606            L                   100  \n",
       "\n",
       "[607 rows x 10 columns]"
      ]
     },
     "execution_count": 2,
     "metadata": {},
     "output_type": "execute_result"
    }
   ],
   "source": [
    "df=pd.read_csv('../input/data-science-fields-salary-categorization/Data_Science_Fields_Salary_Categorization.csv')\n",
    "df"
   ]
  },
  {
   "cell_type": "code",
   "execution_count": 3,
   "id": "bf766591",
   "metadata": {
    "execution": {
     "iopub.execute_input": "2022-10-30T16:39:18.805121Z",
     "iopub.status.busy": "2022-10-30T16:39:18.803954Z",
     "iopub.status.idle": "2022-10-30T16:39:18.827343Z",
     "shell.execute_reply": "2022-10-30T16:39:18.826374Z"
    },
    "papermill": {
     "duration": 0.036196,
     "end_time": "2022-10-30T16:39:18.830482",
     "exception": false,
     "start_time": "2022-10-30T16:39:18.794286",
     "status": "completed"
    },
    "tags": []
   },
   "outputs": [
    {
     "name": "stdout",
     "output_type": "stream",
     "text": [
      "<class 'pandas.core.frame.DataFrame'>\n",
      "RangeIndex: 607 entries, 0 to 606\n",
      "Data columns (total 10 columns):\n",
      " #   Column                Non-Null Count  Dtype \n",
      "---  ------                --------------  ----- \n",
      " 0   Unnamed: 0            607 non-null    int64 \n",
      " 1   Working_Year          607 non-null    int64 \n",
      " 2   Designation           607 non-null    object\n",
      " 3   Experience            607 non-null    object\n",
      " 4   Employment_Status     607 non-null    object\n",
      " 5   Salary_In_Rupees      607 non-null    object\n",
      " 6   Employee_Location     607 non-null    object\n",
      " 7   Company_Location      607 non-null    object\n",
      " 8   Company_Size          607 non-null    object\n",
      " 9   Remote_Working_Ratio  607 non-null    int64 \n",
      "dtypes: int64(3), object(7)\n",
      "memory usage: 47.5+ KB\n"
     ]
    }
   ],
   "source": [
    "df.info()"
   ]
  },
  {
   "cell_type": "code",
   "execution_count": 4,
   "id": "4ab24c84",
   "metadata": {
    "execution": {
     "iopub.execute_input": "2022-10-30T16:39:18.850390Z",
     "iopub.status.busy": "2022-10-30T16:39:18.849473Z",
     "iopub.status.idle": "2022-10-30T16:39:18.874657Z",
     "shell.execute_reply": "2022-10-30T16:39:18.873356Z"
    },
    "papermill": {
     "duration": 0.037322,
     "end_time": "2022-10-30T16:39:18.877207",
     "exception": false,
     "start_time": "2022-10-30T16:39:18.839885",
     "status": "completed"
    },
    "tags": []
   },
   "outputs": [
    {
     "data": {
      "text/html": [
       "<div>\n",
       "<style scoped>\n",
       "    .dataframe tbody tr th:only-of-type {\n",
       "        vertical-align: middle;\n",
       "    }\n",
       "\n",
       "    .dataframe tbody tr th {\n",
       "        vertical-align: top;\n",
       "    }\n",
       "\n",
       "    .dataframe thead th {\n",
       "        text-align: right;\n",
       "    }\n",
       "</style>\n",
       "<table border=\"1\" class=\"dataframe\">\n",
       "  <thead>\n",
       "    <tr style=\"text-align: right;\">\n",
       "      <th></th>\n",
       "      <th>Unnamed: 0</th>\n",
       "      <th>Working_Year</th>\n",
       "      <th>Remote_Working_Ratio</th>\n",
       "    </tr>\n",
       "  </thead>\n",
       "  <tbody>\n",
       "    <tr>\n",
       "      <th>count</th>\n",
       "      <td>607.000000</td>\n",
       "      <td>607.000000</td>\n",
       "      <td>607.00000</td>\n",
       "    </tr>\n",
       "    <tr>\n",
       "      <th>mean</th>\n",
       "      <td>304.000000</td>\n",
       "      <td>2021.405272</td>\n",
       "      <td>70.92257</td>\n",
       "    </tr>\n",
       "    <tr>\n",
       "      <th>std</th>\n",
       "      <td>175.370085</td>\n",
       "      <td>0.692133</td>\n",
       "      <td>40.70913</td>\n",
       "    </tr>\n",
       "    <tr>\n",
       "      <th>min</th>\n",
       "      <td>1.000000</td>\n",
       "      <td>2020.000000</td>\n",
       "      <td>0.00000</td>\n",
       "    </tr>\n",
       "    <tr>\n",
       "      <th>25%</th>\n",
       "      <td>152.500000</td>\n",
       "      <td>2021.000000</td>\n",
       "      <td>50.00000</td>\n",
       "    </tr>\n",
       "    <tr>\n",
       "      <th>50%</th>\n",
       "      <td>304.000000</td>\n",
       "      <td>2022.000000</td>\n",
       "      <td>100.00000</td>\n",
       "    </tr>\n",
       "    <tr>\n",
       "      <th>75%</th>\n",
       "      <td>455.500000</td>\n",
       "      <td>2022.000000</td>\n",
       "      <td>100.00000</td>\n",
       "    </tr>\n",
       "    <tr>\n",
       "      <th>max</th>\n",
       "      <td>607.000000</td>\n",
       "      <td>2022.000000</td>\n",
       "      <td>100.00000</td>\n",
       "    </tr>\n",
       "  </tbody>\n",
       "</table>\n",
       "</div>"
      ],
      "text/plain": [
       "       Unnamed: 0  Working_Year  Remote_Working_Ratio\n",
       "count  607.000000    607.000000             607.00000\n",
       "mean   304.000000   2021.405272              70.92257\n",
       "std    175.370085      0.692133              40.70913\n",
       "min      1.000000   2020.000000               0.00000\n",
       "25%    152.500000   2021.000000              50.00000\n",
       "50%    304.000000   2022.000000             100.00000\n",
       "75%    455.500000   2022.000000             100.00000\n",
       "max    607.000000   2022.000000             100.00000"
      ]
     },
     "execution_count": 4,
     "metadata": {},
     "output_type": "execute_result"
    }
   ],
   "source": [
    "df.describe()"
   ]
  },
  {
   "cell_type": "code",
   "execution_count": 5,
   "id": "63d523a1",
   "metadata": {
    "execution": {
     "iopub.execute_input": "2022-10-30T16:39:18.897814Z",
     "iopub.status.busy": "2022-10-30T16:39:18.897050Z",
     "iopub.status.idle": "2022-10-30T16:39:18.914556Z",
     "shell.execute_reply": "2022-10-30T16:39:18.913541Z"
    },
    "papermill": {
     "duration": 0.030249,
     "end_time": "2022-10-30T16:39:18.917076",
     "exception": false,
     "start_time": "2022-10-30T16:39:18.886827",
     "status": "completed"
    },
    "tags": []
   },
   "outputs": [
    {
     "data": {
      "text/html": [
       "<div>\n",
       "<style scoped>\n",
       "    .dataframe tbody tr th:only-of-type {\n",
       "        vertical-align: middle;\n",
       "    }\n",
       "\n",
       "    .dataframe tbody tr th {\n",
       "        vertical-align: top;\n",
       "    }\n",
       "\n",
       "    .dataframe thead th {\n",
       "        text-align: right;\n",
       "    }\n",
       "</style>\n",
       "<table border=\"1\" class=\"dataframe\">\n",
       "  <thead>\n",
       "    <tr style=\"text-align: right;\">\n",
       "      <th></th>\n",
       "      <th>Unnamed: 0</th>\n",
       "      <th>Working_Year</th>\n",
       "      <th>Designation</th>\n",
       "      <th>Experience</th>\n",
       "      <th>Employment_Status</th>\n",
       "      <th>Salary_In_Rupees</th>\n",
       "      <th>Employee_Location</th>\n",
       "      <th>Company_Location</th>\n",
       "      <th>Company_Size</th>\n",
       "      <th>Remote_Working_Ratio</th>\n",
       "    </tr>\n",
       "  </thead>\n",
       "  <tbody>\n",
       "    <tr>\n",
       "      <th>0</th>\n",
       "      <td>1</td>\n",
       "      <td>2020</td>\n",
       "      <td>Data Scientist</td>\n",
       "      <td>MI</td>\n",
       "      <td>FT</td>\n",
       "      <td>6,352,272.00</td>\n",
       "      <td>DE</td>\n",
       "      <td>DE</td>\n",
       "      <td>L</td>\n",
       "      <td>0</td>\n",
       "    </tr>\n",
       "    <tr>\n",
       "      <th>1</th>\n",
       "      <td>2</td>\n",
       "      <td>2020</td>\n",
       "      <td>Machine Learning Scientist</td>\n",
       "      <td>SE</td>\n",
       "      <td>FT</td>\n",
       "      <td>20,688,070.00</td>\n",
       "      <td>JP</td>\n",
       "      <td>JP</td>\n",
       "      <td>S</td>\n",
       "      <td>0</td>\n",
       "    </tr>\n",
       "    <tr>\n",
       "      <th>2</th>\n",
       "      <td>3</td>\n",
       "      <td>2020</td>\n",
       "      <td>Big Data Engineer</td>\n",
       "      <td>SE</td>\n",
       "      <td>FT</td>\n",
       "      <td>8,674,985.00</td>\n",
       "      <td>GB</td>\n",
       "      <td>GB</td>\n",
       "      <td>M</td>\n",
       "      <td>50</td>\n",
       "    </tr>\n",
       "    <tr>\n",
       "      <th>3</th>\n",
       "      <td>4</td>\n",
       "      <td>2020</td>\n",
       "      <td>Product Data Analyst</td>\n",
       "      <td>MI</td>\n",
       "      <td>FT</td>\n",
       "      <td>1,591,390.00</td>\n",
       "      <td>HN</td>\n",
       "      <td>HN</td>\n",
       "      <td>S</td>\n",
       "      <td>0</td>\n",
       "    </tr>\n",
       "    <tr>\n",
       "      <th>4</th>\n",
       "      <td>5</td>\n",
       "      <td>2020</td>\n",
       "      <td>Machine Learning Engineer</td>\n",
       "      <td>SE</td>\n",
       "      <td>FT</td>\n",
       "      <td>11,935,425.00</td>\n",
       "      <td>US</td>\n",
       "      <td>US</td>\n",
       "      <td>L</td>\n",
       "      <td>50</td>\n",
       "    </tr>\n",
       "  </tbody>\n",
       "</table>\n",
       "</div>"
      ],
      "text/plain": [
       "   Unnamed: 0  Working_Year                 Designation Experience  \\\n",
       "0           1          2020              Data Scientist         MI   \n",
       "1           2          2020  Machine Learning Scientist         SE   \n",
       "2           3          2020           Big Data Engineer         SE   \n",
       "3           4          2020        Product Data Analyst         MI   \n",
       "4           5          2020   Machine Learning Engineer         SE   \n",
       "\n",
       "  Employment_Status Salary_In_Rupees Employee_Location Company_Location  \\\n",
       "0                FT     6,352,272.00                DE               DE   \n",
       "1                FT    20,688,070.00                JP               JP   \n",
       "2                FT     8,674,985.00                GB               GB   \n",
       "3                FT     1,591,390.00                HN               HN   \n",
       "4                FT    11,935,425.00                US               US   \n",
       "\n",
       "  Company_Size  Remote_Working_Ratio  \n",
       "0            L                     0  \n",
       "1            S                     0  \n",
       "2            M                    50  \n",
       "3            S                     0  \n",
       "4            L                    50  "
      ]
     },
     "execution_count": 5,
     "metadata": {},
     "output_type": "execute_result"
    }
   ],
   "source": [
    "df.head()"
   ]
  },
  {
   "cell_type": "code",
   "execution_count": 6,
   "id": "3a13f68f",
   "metadata": {
    "execution": {
     "iopub.execute_input": "2022-10-30T16:39:18.938978Z",
     "iopub.status.busy": "2022-10-30T16:39:18.938195Z",
     "iopub.status.idle": "2022-10-30T16:39:18.956273Z",
     "shell.execute_reply": "2022-10-30T16:39:18.954861Z"
    },
    "papermill": {
     "duration": 0.031242,
     "end_time": "2022-10-30T16:39:18.958964",
     "exception": false,
     "start_time": "2022-10-30T16:39:18.927722",
     "status": "completed"
    },
    "tags": []
   },
   "outputs": [
    {
     "data": {
      "text/html": [
       "<div>\n",
       "<style scoped>\n",
       "    .dataframe tbody tr th:only-of-type {\n",
       "        vertical-align: middle;\n",
       "    }\n",
       "\n",
       "    .dataframe tbody tr th {\n",
       "        vertical-align: top;\n",
       "    }\n",
       "\n",
       "    .dataframe thead th {\n",
       "        text-align: right;\n",
       "    }\n",
       "</style>\n",
       "<table border=\"1\" class=\"dataframe\">\n",
       "  <thead>\n",
       "    <tr style=\"text-align: right;\">\n",
       "      <th></th>\n",
       "      <th>Unnamed: 0</th>\n",
       "      <th>Working_Year</th>\n",
       "      <th>Designation</th>\n",
       "      <th>Experience</th>\n",
       "      <th>Employment_Status</th>\n",
       "      <th>Salary_In_Rupees</th>\n",
       "      <th>Employee_Location</th>\n",
       "      <th>Company_Location</th>\n",
       "      <th>Company_Size</th>\n",
       "      <th>Remote_Working_Ratio</th>\n",
       "    </tr>\n",
       "  </thead>\n",
       "  <tbody>\n",
       "    <tr>\n",
       "      <th>0</th>\n",
       "      <td>1</td>\n",
       "      <td>2020</td>\n",
       "      <td>Data Scientist</td>\n",
       "      <td>MI</td>\n",
       "      <td>FT</td>\n",
       "      <td>6,352,272.00</td>\n",
       "      <td>DE</td>\n",
       "      <td>DE</td>\n",
       "      <td>L</td>\n",
       "      <td>0</td>\n",
       "    </tr>\n",
       "    <tr>\n",
       "      <th>1</th>\n",
       "      <td>2</td>\n",
       "      <td>2020</td>\n",
       "      <td>Machine Learning Scientist</td>\n",
       "      <td>SE</td>\n",
       "      <td>FT</td>\n",
       "      <td>20,688,070.00</td>\n",
       "      <td>JP</td>\n",
       "      <td>JP</td>\n",
       "      <td>S</td>\n",
       "      <td>0</td>\n",
       "    </tr>\n",
       "    <tr>\n",
       "      <th>2</th>\n",
       "      <td>3</td>\n",
       "      <td>2020</td>\n",
       "      <td>Big Data Engineer</td>\n",
       "      <td>SE</td>\n",
       "      <td>FT</td>\n",
       "      <td>8,674,985.00</td>\n",
       "      <td>GB</td>\n",
       "      <td>GB</td>\n",
       "      <td>M</td>\n",
       "      <td>50</td>\n",
       "    </tr>\n",
       "    <tr>\n",
       "      <th>3</th>\n",
       "      <td>4</td>\n",
       "      <td>2020</td>\n",
       "      <td>Product Data Analyst</td>\n",
       "      <td>MI</td>\n",
       "      <td>FT</td>\n",
       "      <td>1,591,390.00</td>\n",
       "      <td>HN</td>\n",
       "      <td>HN</td>\n",
       "      <td>S</td>\n",
       "      <td>0</td>\n",
       "    </tr>\n",
       "    <tr>\n",
       "      <th>4</th>\n",
       "      <td>5</td>\n",
       "      <td>2020</td>\n",
       "      <td>Machine Learning Engineer</td>\n",
       "      <td>SE</td>\n",
       "      <td>FT</td>\n",
       "      <td>11,935,425.00</td>\n",
       "      <td>US</td>\n",
       "      <td>US</td>\n",
       "      <td>L</td>\n",
       "      <td>50</td>\n",
       "    </tr>\n",
       "    <tr>\n",
       "      <th>5</th>\n",
       "      <td>6</td>\n",
       "      <td>2020</td>\n",
       "      <td>Data Analyst</td>\n",
       "      <td>EN</td>\n",
       "      <td>FT</td>\n",
       "      <td>5,729,004.00</td>\n",
       "      <td>US</td>\n",
       "      <td>US</td>\n",
       "      <td>L</td>\n",
       "      <td>100</td>\n",
       "    </tr>\n",
       "    <tr>\n",
       "      <th>6</th>\n",
       "      <td>7</td>\n",
       "      <td>2020</td>\n",
       "      <td>Lead Data Scientist</td>\n",
       "      <td>SE</td>\n",
       "      <td>FT</td>\n",
       "      <td>15,118,205.00</td>\n",
       "      <td>US</td>\n",
       "      <td>US</td>\n",
       "      <td>S</td>\n",
       "      <td>100</td>\n",
       "    </tr>\n",
       "    <tr>\n",
       "      <th>7</th>\n",
       "      <td>8</td>\n",
       "      <td>2020</td>\n",
       "      <td>Data Scientist</td>\n",
       "      <td>MI</td>\n",
       "      <td>FT</td>\n",
       "      <td>2,843,416.00</td>\n",
       "      <td>HU</td>\n",
       "      <td>HU</td>\n",
       "      <td>L</td>\n",
       "      <td>50</td>\n",
       "    </tr>\n",
       "    <tr>\n",
       "      <th>8</th>\n",
       "      <td>9</td>\n",
       "      <td>2020</td>\n",
       "      <td>Business Data Analyst</td>\n",
       "      <td>MI</td>\n",
       "      <td>FT</td>\n",
       "      <td>10,741,883.00</td>\n",
       "      <td>US</td>\n",
       "      <td>US</td>\n",
       "      <td>L</td>\n",
       "      <td>100</td>\n",
       "    </tr>\n",
       "    <tr>\n",
       "      <th>9</th>\n",
       "      <td>10</td>\n",
       "      <td>2020</td>\n",
       "      <td>Lead Data Engineer</td>\n",
       "      <td>SE</td>\n",
       "      <td>FT</td>\n",
       "      <td>9,946,188.00</td>\n",
       "      <td>NZ</td>\n",
       "      <td>NZ</td>\n",
       "      <td>S</td>\n",
       "      <td>50</td>\n",
       "    </tr>\n",
       "  </tbody>\n",
       "</table>\n",
       "</div>"
      ],
      "text/plain": [
       "   Unnamed: 0  Working_Year                 Designation Experience  \\\n",
       "0           1          2020              Data Scientist         MI   \n",
       "1           2          2020  Machine Learning Scientist         SE   \n",
       "2           3          2020           Big Data Engineer         SE   \n",
       "3           4          2020        Product Data Analyst         MI   \n",
       "4           5          2020   Machine Learning Engineer         SE   \n",
       "5           6          2020                Data Analyst         EN   \n",
       "6           7          2020         Lead Data Scientist         SE   \n",
       "7           8          2020              Data Scientist         MI   \n",
       "8           9          2020       Business Data Analyst         MI   \n",
       "9          10          2020          Lead Data Engineer         SE   \n",
       "\n",
       "  Employment_Status Salary_In_Rupees Employee_Location Company_Location  \\\n",
       "0                FT     6,352,272.00                DE               DE   \n",
       "1                FT    20,688,070.00                JP               JP   \n",
       "2                FT     8,674,985.00                GB               GB   \n",
       "3                FT     1,591,390.00                HN               HN   \n",
       "4                FT    11,935,425.00                US               US   \n",
       "5                FT     5,729,004.00                US               US   \n",
       "6                FT    15,118,205.00                US               US   \n",
       "7                FT     2,843,416.00                HU               HU   \n",
       "8                FT    10,741,883.00                US               US   \n",
       "9                FT     9,946,188.00                NZ               NZ   \n",
       "\n",
       "  Company_Size  Remote_Working_Ratio  \n",
       "0            L                     0  \n",
       "1            S                     0  \n",
       "2            M                    50  \n",
       "3            S                     0  \n",
       "4            L                    50  \n",
       "5            L                   100  \n",
       "6            S                   100  \n",
       "7            L                    50  \n",
       "8            L                   100  \n",
       "9            S                    50  "
      ]
     },
     "execution_count": 6,
     "metadata": {},
     "output_type": "execute_result"
    }
   ],
   "source": [
    "df.head(10)"
   ]
  },
  {
   "cell_type": "code",
   "execution_count": 7,
   "id": "ad432512",
   "metadata": {
    "execution": {
     "iopub.execute_input": "2022-10-30T16:39:18.979592Z",
     "iopub.status.busy": "2022-10-30T16:39:18.979210Z",
     "iopub.status.idle": "2022-10-30T16:39:18.995238Z",
     "shell.execute_reply": "2022-10-30T16:39:18.994029Z"
    },
    "papermill": {
     "duration": 0.02925,
     "end_time": "2022-10-30T16:39:18.997637",
     "exception": false,
     "start_time": "2022-10-30T16:39:18.968387",
     "status": "completed"
    },
    "tags": []
   },
   "outputs": [
    {
     "data": {
      "text/html": [
       "<div>\n",
       "<style scoped>\n",
       "    .dataframe tbody tr th:only-of-type {\n",
       "        vertical-align: middle;\n",
       "    }\n",
       "\n",
       "    .dataframe tbody tr th {\n",
       "        vertical-align: top;\n",
       "    }\n",
       "\n",
       "    .dataframe thead th {\n",
       "        text-align: right;\n",
       "    }\n",
       "</style>\n",
       "<table border=\"1\" class=\"dataframe\">\n",
       "  <thead>\n",
       "    <tr style=\"text-align: right;\">\n",
       "      <th></th>\n",
       "      <th>Unnamed: 0</th>\n",
       "      <th>Working_Year</th>\n",
       "      <th>Designation</th>\n",
       "      <th>Experience</th>\n",
       "      <th>Employment_Status</th>\n",
       "      <th>Salary_In_Rupees</th>\n",
       "      <th>Employee_Location</th>\n",
       "      <th>Company_Location</th>\n",
       "      <th>Company_Size</th>\n",
       "      <th>Remote_Working_Ratio</th>\n",
       "    </tr>\n",
       "  </thead>\n",
       "  <tbody>\n",
       "    <tr>\n",
       "      <th>602</th>\n",
       "      <td>603</td>\n",
       "      <td>2022</td>\n",
       "      <td>Data Engineer</td>\n",
       "      <td>SE</td>\n",
       "      <td>FT</td>\n",
       "      <td>12,253,703.00</td>\n",
       "      <td>US</td>\n",
       "      <td>US</td>\n",
       "      <td>M</td>\n",
       "      <td>100</td>\n",
       "    </tr>\n",
       "    <tr>\n",
       "      <th>603</th>\n",
       "      <td>604</td>\n",
       "      <td>2022</td>\n",
       "      <td>Data Engineer</td>\n",
       "      <td>SE</td>\n",
       "      <td>FT</td>\n",
       "      <td>10,025,757.00</td>\n",
       "      <td>US</td>\n",
       "      <td>US</td>\n",
       "      <td>M</td>\n",
       "      <td>100</td>\n",
       "    </tr>\n",
       "    <tr>\n",
       "      <th>604</th>\n",
       "      <td>605</td>\n",
       "      <td>2022</td>\n",
       "      <td>Data Analyst</td>\n",
       "      <td>SE</td>\n",
       "      <td>FT</td>\n",
       "      <td>10,264,466.00</td>\n",
       "      <td>US</td>\n",
       "      <td>US</td>\n",
       "      <td>M</td>\n",
       "      <td>0</td>\n",
       "    </tr>\n",
       "    <tr>\n",
       "      <th>605</th>\n",
       "      <td>606</td>\n",
       "      <td>2022</td>\n",
       "      <td>Data Analyst</td>\n",
       "      <td>SE</td>\n",
       "      <td>FT</td>\n",
       "      <td>11,935,425.00</td>\n",
       "      <td>US</td>\n",
       "      <td>US</td>\n",
       "      <td>M</td>\n",
       "      <td>100</td>\n",
       "    </tr>\n",
       "    <tr>\n",
       "      <th>606</th>\n",
       "      <td>607</td>\n",
       "      <td>2022</td>\n",
       "      <td>AI Scientist</td>\n",
       "      <td>MI</td>\n",
       "      <td>FT</td>\n",
       "      <td>15,913,900.00</td>\n",
       "      <td>IN</td>\n",
       "      <td>US</td>\n",
       "      <td>L</td>\n",
       "      <td>100</td>\n",
       "    </tr>\n",
       "  </tbody>\n",
       "</table>\n",
       "</div>"
      ],
      "text/plain": [
       "     Unnamed: 0  Working_Year    Designation Experience Employment_Status  \\\n",
       "602         603          2022  Data Engineer         SE                FT   \n",
       "603         604          2022  Data Engineer         SE                FT   \n",
       "604         605          2022   Data Analyst         SE                FT   \n",
       "605         606          2022   Data Analyst         SE                FT   \n",
       "606         607          2022   AI Scientist         MI                FT   \n",
       "\n",
       "    Salary_In_Rupees Employee_Location Company_Location Company_Size  \\\n",
       "602    12,253,703.00                US               US            M   \n",
       "603    10,025,757.00                US               US            M   \n",
       "604    10,264,466.00                US               US            M   \n",
       "605    11,935,425.00                US               US            M   \n",
       "606    15,913,900.00                IN               US            L   \n",
       "\n",
       "     Remote_Working_Ratio  \n",
       "602                   100  \n",
       "603                   100  \n",
       "604                     0  \n",
       "605                   100  \n",
       "606                   100  "
      ]
     },
     "execution_count": 7,
     "metadata": {},
     "output_type": "execute_result"
    }
   ],
   "source": [
    "df.tail()"
   ]
  },
  {
   "cell_type": "code",
   "execution_count": 8,
   "id": "4abded1b",
   "metadata": {
    "execution": {
     "iopub.execute_input": "2022-10-30T16:39:19.021101Z",
     "iopub.status.busy": "2022-10-30T16:39:19.020212Z",
     "iopub.status.idle": "2022-10-30T16:39:19.037732Z",
     "shell.execute_reply": "2022-10-30T16:39:19.036840Z"
    },
    "papermill": {
     "duration": 0.032793,
     "end_time": "2022-10-30T16:39:19.040097",
     "exception": false,
     "start_time": "2022-10-30T16:39:19.007304",
     "status": "completed"
    },
    "tags": []
   },
   "outputs": [
    {
     "data": {
      "text/html": [
       "<div>\n",
       "<style scoped>\n",
       "    .dataframe tbody tr th:only-of-type {\n",
       "        vertical-align: middle;\n",
       "    }\n",
       "\n",
       "    .dataframe tbody tr th {\n",
       "        vertical-align: top;\n",
       "    }\n",
       "\n",
       "    .dataframe thead th {\n",
       "        text-align: right;\n",
       "    }\n",
       "</style>\n",
       "<table border=\"1\" class=\"dataframe\">\n",
       "  <thead>\n",
       "    <tr style=\"text-align: right;\">\n",
       "      <th></th>\n",
       "      <th>Unnamed: 0</th>\n",
       "      <th>Working_Year</th>\n",
       "      <th>Designation</th>\n",
       "      <th>Experience</th>\n",
       "      <th>Employment_Status</th>\n",
       "      <th>Salary_In_Rupees</th>\n",
       "      <th>Employee_Location</th>\n",
       "      <th>Company_Location</th>\n",
       "      <th>Company_Size</th>\n",
       "      <th>Remote_Working_Ratio</th>\n",
       "    </tr>\n",
       "  </thead>\n",
       "  <tbody>\n",
       "    <tr>\n",
       "      <th>597</th>\n",
       "      <td>598</td>\n",
       "      <td>2022</td>\n",
       "      <td>Data Analyst</td>\n",
       "      <td>SE</td>\n",
       "      <td>FT</td>\n",
       "      <td>13,526,815.00</td>\n",
       "      <td>US</td>\n",
       "      <td>US</td>\n",
       "      <td>M</td>\n",
       "      <td>100</td>\n",
       "    </tr>\n",
       "    <tr>\n",
       "      <th>598</th>\n",
       "      <td>599</td>\n",
       "      <td>2022</td>\n",
       "      <td>Data Scientist</td>\n",
       "      <td>MI</td>\n",
       "      <td>FT</td>\n",
       "      <td>12,731,120.00</td>\n",
       "      <td>US</td>\n",
       "      <td>US</td>\n",
       "      <td>M</td>\n",
       "      <td>100</td>\n",
       "    </tr>\n",
       "    <tr>\n",
       "      <th>599</th>\n",
       "      <td>600</td>\n",
       "      <td>2022</td>\n",
       "      <td>Data Scientist</td>\n",
       "      <td>MI</td>\n",
       "      <td>FT</td>\n",
       "      <td>10,344,035.00</td>\n",
       "      <td>US</td>\n",
       "      <td>US</td>\n",
       "      <td>M</td>\n",
       "      <td>100</td>\n",
       "    </tr>\n",
       "    <tr>\n",
       "      <th>600</th>\n",
       "      <td>601</td>\n",
       "      <td>2022</td>\n",
       "      <td>Data Analyst</td>\n",
       "      <td>EN</td>\n",
       "      <td>FT</td>\n",
       "      <td>5,331,157.00</td>\n",
       "      <td>CA</td>\n",
       "      <td>CA</td>\n",
       "      <td>M</td>\n",
       "      <td>0</td>\n",
       "    </tr>\n",
       "    <tr>\n",
       "      <th>601</th>\n",
       "      <td>602</td>\n",
       "      <td>2022</td>\n",
       "      <td>Data Analyst</td>\n",
       "      <td>EN</td>\n",
       "      <td>FT</td>\n",
       "      <td>4,137,614.00</td>\n",
       "      <td>CA</td>\n",
       "      <td>CA</td>\n",
       "      <td>M</td>\n",
       "      <td>0</td>\n",
       "    </tr>\n",
       "    <tr>\n",
       "      <th>602</th>\n",
       "      <td>603</td>\n",
       "      <td>2022</td>\n",
       "      <td>Data Engineer</td>\n",
       "      <td>SE</td>\n",
       "      <td>FT</td>\n",
       "      <td>12,253,703.00</td>\n",
       "      <td>US</td>\n",
       "      <td>US</td>\n",
       "      <td>M</td>\n",
       "      <td>100</td>\n",
       "    </tr>\n",
       "    <tr>\n",
       "      <th>603</th>\n",
       "      <td>604</td>\n",
       "      <td>2022</td>\n",
       "      <td>Data Engineer</td>\n",
       "      <td>SE</td>\n",
       "      <td>FT</td>\n",
       "      <td>10,025,757.00</td>\n",
       "      <td>US</td>\n",
       "      <td>US</td>\n",
       "      <td>M</td>\n",
       "      <td>100</td>\n",
       "    </tr>\n",
       "    <tr>\n",
       "      <th>604</th>\n",
       "      <td>605</td>\n",
       "      <td>2022</td>\n",
       "      <td>Data Analyst</td>\n",
       "      <td>SE</td>\n",
       "      <td>FT</td>\n",
       "      <td>10,264,466.00</td>\n",
       "      <td>US</td>\n",
       "      <td>US</td>\n",
       "      <td>M</td>\n",
       "      <td>0</td>\n",
       "    </tr>\n",
       "    <tr>\n",
       "      <th>605</th>\n",
       "      <td>606</td>\n",
       "      <td>2022</td>\n",
       "      <td>Data Analyst</td>\n",
       "      <td>SE</td>\n",
       "      <td>FT</td>\n",
       "      <td>11,935,425.00</td>\n",
       "      <td>US</td>\n",
       "      <td>US</td>\n",
       "      <td>M</td>\n",
       "      <td>100</td>\n",
       "    </tr>\n",
       "    <tr>\n",
       "      <th>606</th>\n",
       "      <td>607</td>\n",
       "      <td>2022</td>\n",
       "      <td>AI Scientist</td>\n",
       "      <td>MI</td>\n",
       "      <td>FT</td>\n",
       "      <td>15,913,900.00</td>\n",
       "      <td>IN</td>\n",
       "      <td>US</td>\n",
       "      <td>L</td>\n",
       "      <td>100</td>\n",
       "    </tr>\n",
       "  </tbody>\n",
       "</table>\n",
       "</div>"
      ],
      "text/plain": [
       "     Unnamed: 0  Working_Year     Designation Experience Employment_Status  \\\n",
       "597         598          2022    Data Analyst         SE                FT   \n",
       "598         599          2022  Data Scientist         MI                FT   \n",
       "599         600          2022  Data Scientist         MI                FT   \n",
       "600         601          2022    Data Analyst         EN                FT   \n",
       "601         602          2022    Data Analyst         EN                FT   \n",
       "602         603          2022   Data Engineer         SE                FT   \n",
       "603         604          2022   Data Engineer         SE                FT   \n",
       "604         605          2022    Data Analyst         SE                FT   \n",
       "605         606          2022    Data Analyst         SE                FT   \n",
       "606         607          2022    AI Scientist         MI                FT   \n",
       "\n",
       "    Salary_In_Rupees Employee_Location Company_Location Company_Size  \\\n",
       "597    13,526,815.00                US               US            M   \n",
       "598    12,731,120.00                US               US            M   \n",
       "599    10,344,035.00                US               US            M   \n",
       "600     5,331,157.00                CA               CA            M   \n",
       "601     4,137,614.00                CA               CA            M   \n",
       "602    12,253,703.00                US               US            M   \n",
       "603    10,025,757.00                US               US            M   \n",
       "604    10,264,466.00                US               US            M   \n",
       "605    11,935,425.00                US               US            M   \n",
       "606    15,913,900.00                IN               US            L   \n",
       "\n",
       "     Remote_Working_Ratio  \n",
       "597                   100  \n",
       "598                   100  \n",
       "599                   100  \n",
       "600                     0  \n",
       "601                     0  \n",
       "602                   100  \n",
       "603                   100  \n",
       "604                     0  \n",
       "605                   100  \n",
       "606                   100  "
      ]
     },
     "execution_count": 8,
     "metadata": {},
     "output_type": "execute_result"
    }
   ],
   "source": [
    "df.tail(10)"
   ]
  },
  {
   "cell_type": "code",
   "execution_count": 9,
   "id": "e6a9d40b",
   "metadata": {
    "execution": {
     "iopub.execute_input": "2022-10-30T16:39:19.063329Z",
     "iopub.status.busy": "2022-10-30T16:39:19.062537Z",
     "iopub.status.idle": "2022-10-30T16:39:19.069935Z",
     "shell.execute_reply": "2022-10-30T16:39:19.069055Z"
    },
    "papermill": {
     "duration": 0.022862,
     "end_time": "2022-10-30T16:39:19.072679",
     "exception": false,
     "start_time": "2022-10-30T16:39:19.049817",
     "status": "completed"
    },
    "tags": []
   },
   "outputs": [
    {
     "data": {
      "text/plain": [
       "'Staff Data Scientist'"
      ]
     },
     "execution_count": 9,
     "metadata": {},
     "output_type": "execute_result"
    }
   ],
   "source": [
    "df.Designation.max()"
   ]
  },
  {
   "cell_type": "code",
   "execution_count": 10,
   "id": "37433c2d",
   "metadata": {
    "execution": {
     "iopub.execute_input": "2022-10-30T16:39:19.099584Z",
     "iopub.status.busy": "2022-10-30T16:39:19.098516Z",
     "iopub.status.idle": "2022-10-30T16:39:19.107437Z",
     "shell.execute_reply": "2022-10-30T16:39:19.106617Z"
    },
    "papermill": {
     "duration": 0.025779,
     "end_time": "2022-10-30T16:39:19.109679",
     "exception": false,
     "start_time": "2022-10-30T16:39:19.083900",
     "status": "completed"
    },
    "tags": []
   },
   "outputs": [
    {
     "data": {
      "text/plain": [
       "'3D Computer Vision Researcher'"
      ]
     },
     "execution_count": 10,
     "metadata": {},
     "output_type": "execute_result"
    }
   ],
   "source": [
    "df.Designation.min()"
   ]
  },
  {
   "cell_type": "code",
   "execution_count": 11,
   "id": "42d6087d",
   "metadata": {
    "execution": {
     "iopub.execute_input": "2022-10-30T16:39:19.140950Z",
     "iopub.status.busy": "2022-10-30T16:39:19.139961Z",
     "iopub.status.idle": "2022-10-30T16:39:19.146704Z",
     "shell.execute_reply": "2022-10-30T16:39:19.145574Z"
    },
    "papermill": {
     "duration": 0.024339,
     "end_time": "2022-10-30T16:39:19.148926",
     "exception": false,
     "start_time": "2022-10-30T16:39:19.124587",
     "status": "completed"
    },
    "tags": []
   },
   "outputs": [
    {
     "data": {
      "text/plain": [
       "'963,030.00'"
      ]
     },
     "execution_count": 11,
     "metadata": {},
     "output_type": "execute_result"
    }
   ],
   "source": [
    "df.Salary_In_Rupees.max()"
   ]
  },
  {
   "cell_type": "code",
   "execution_count": 12,
   "id": "a5ced3b9",
   "metadata": {
    "execution": {
     "iopub.execute_input": "2022-10-30T16:39:19.171452Z",
     "iopub.status.busy": "2022-10-30T16:39:19.170709Z",
     "iopub.status.idle": "2022-10-30T16:39:19.177092Z",
     "shell.execute_reply": "2022-10-30T16:39:19.176012Z"
    },
    "papermill": {
     "duration": 0.020289,
     "end_time": "2022-10-30T16:39:19.179301",
     "exception": false,
     "start_time": "2022-10-30T16:39:19.159012",
     "status": "completed"
    },
    "tags": []
   },
   "outputs": [
    {
     "data": {
      "text/plain": [
       "'1,026,526.00'"
      ]
     },
     "execution_count": 12,
     "metadata": {},
     "output_type": "execute_result"
    }
   ],
   "source": [
    "df.Salary_In_Rupees.min()"
   ]
  },
  {
   "cell_type": "code",
   "execution_count": 13,
   "id": "4a03a37a",
   "metadata": {
    "execution": {
     "iopub.execute_input": "2022-10-30T16:39:19.201726Z",
     "iopub.status.busy": "2022-10-30T16:39:19.200992Z",
     "iopub.status.idle": "2022-10-30T16:39:19.207161Z",
     "shell.execute_reply": "2022-10-30T16:39:19.206396Z"
    },
    "papermill": {
     "duration": 0.019972,
     "end_time": "2022-10-30T16:39:19.209350",
     "exception": false,
     "start_time": "2022-10-30T16:39:19.189378",
     "status": "completed"
    },
    "tags": []
   },
   "outputs": [
    {
     "data": {
      "text/plain": [
       "'VN'"
      ]
     },
     "execution_count": 13,
     "metadata": {},
     "output_type": "execute_result"
    }
   ],
   "source": [
    "df.Employee_Location.max()"
   ]
  },
  {
   "cell_type": "code",
   "execution_count": 14,
   "id": "19cbbcfa",
   "metadata": {
    "execution": {
     "iopub.execute_input": "2022-10-30T16:39:19.236028Z",
     "iopub.status.busy": "2022-10-30T16:39:19.235249Z",
     "iopub.status.idle": "2022-10-30T16:39:19.242256Z",
     "shell.execute_reply": "2022-10-30T16:39:19.241432Z"
    },
    "papermill": {
     "duration": 0.023341,
     "end_time": "2022-10-30T16:39:19.245087",
     "exception": false,
     "start_time": "2022-10-30T16:39:19.221746",
     "status": "completed"
    },
    "tags": []
   },
   "outputs": [
    {
     "data": {
      "text/plain": [
       "'AE'"
      ]
     },
     "execution_count": 14,
     "metadata": {},
     "output_type": "execute_result"
    }
   ],
   "source": [
    "df.Employee_Location.min()"
   ]
  },
  {
   "cell_type": "code",
   "execution_count": 15,
   "id": "35c6863f",
   "metadata": {
    "execution": {
     "iopub.execute_input": "2022-10-30T16:39:19.273098Z",
     "iopub.status.busy": "2022-10-30T16:39:19.272223Z",
     "iopub.status.idle": "2022-10-30T16:39:19.280746Z",
     "shell.execute_reply": "2022-10-30T16:39:19.279320Z"
    },
    "papermill": {
     "duration": 0.023986,
     "end_time": "2022-10-30T16:39:19.283700",
     "exception": false,
     "start_time": "2022-10-30T16:39:19.259714",
     "status": "completed"
    },
    "tags": []
   },
   "outputs": [
    {
     "data": {
      "text/plain": [
       "'VN'"
      ]
     },
     "execution_count": 15,
     "metadata": {},
     "output_type": "execute_result"
    }
   ],
   "source": [
    "df.Company_Location.max()"
   ]
  },
  {
   "cell_type": "code",
   "execution_count": 16,
   "id": "b6c5c069",
   "metadata": {
    "execution": {
     "iopub.execute_input": "2022-10-30T16:39:19.311455Z",
     "iopub.status.busy": "2022-10-30T16:39:19.310594Z",
     "iopub.status.idle": "2022-10-30T16:39:19.317581Z",
     "shell.execute_reply": "2022-10-30T16:39:19.316656Z"
    },
    "papermill": {
     "duration": 0.020981,
     "end_time": "2022-10-30T16:39:19.319817",
     "exception": false,
     "start_time": "2022-10-30T16:39:19.298836",
     "status": "completed"
    },
    "tags": []
   },
   "outputs": [
    {
     "data": {
      "text/plain": [
       "'AE'"
      ]
     },
     "execution_count": 16,
     "metadata": {},
     "output_type": "execute_result"
    }
   ],
   "source": [
    "df.Company_Location.min()"
   ]
  },
  {
   "cell_type": "code",
   "execution_count": 17,
   "id": "b34f4677",
   "metadata": {
    "execution": {
     "iopub.execute_input": "2022-10-30T16:39:19.346070Z",
     "iopub.status.busy": "2022-10-30T16:39:19.345451Z",
     "iopub.status.idle": "2022-10-30T16:39:19.351462Z",
     "shell.execute_reply": "2022-10-30T16:39:19.350349Z"
    },
    "papermill": {
     "duration": 0.023694,
     "end_time": "2022-10-30T16:39:19.353838",
     "exception": false,
     "start_time": "2022-10-30T16:39:19.330144",
     "status": "completed"
    },
    "tags": []
   },
   "outputs": [
    {
     "data": {
      "text/plain": [
       "'S'"
      ]
     },
     "execution_count": 17,
     "metadata": {},
     "output_type": "execute_result"
    }
   ],
   "source": [
    "df.Company_Size.max()"
   ]
  },
  {
   "cell_type": "code",
   "execution_count": 18,
   "id": "cb6139e9",
   "metadata": {
    "execution": {
     "iopub.execute_input": "2022-10-30T16:39:19.378570Z",
     "iopub.status.busy": "2022-10-30T16:39:19.377357Z",
     "iopub.status.idle": "2022-10-30T16:39:19.385218Z",
     "shell.execute_reply": "2022-10-30T16:39:19.384217Z"
    },
    "papermill": {
     "duration": 0.022493,
     "end_time": "2022-10-30T16:39:19.387407",
     "exception": false,
     "start_time": "2022-10-30T16:39:19.364914",
     "status": "completed"
    },
    "tags": []
   },
   "outputs": [
    {
     "data": {
      "text/plain": [
       "'L'"
      ]
     },
     "execution_count": 18,
     "metadata": {},
     "output_type": "execute_result"
    }
   ],
   "source": [
    "df.Company_Size.min()"
   ]
  },
  {
   "cell_type": "code",
   "execution_count": 19,
   "id": "bf4297f2",
   "metadata": {
    "execution": {
     "iopub.execute_input": "2022-10-30T16:39:19.410581Z",
     "iopub.status.busy": "2022-10-30T16:39:19.410153Z",
     "iopub.status.idle": "2022-10-30T16:39:19.421812Z",
     "shell.execute_reply": "2022-10-30T16:39:19.418797Z"
    },
    "papermill": {
     "duration": 0.027746,
     "end_time": "2022-10-30T16:39:19.425846",
     "exception": false,
     "start_time": "2022-10-30T16:39:19.398100",
     "status": "completed"
    },
    "tags": []
   },
   "outputs": [
    {
     "data": {
      "text/plain": [
       "array(['6,352,272.00', '20,688,070.00', '8,674,985.00', '1,591,390.00',\n",
       "       '11,935,425.00', '5,729,004.00', '15,118,205.00', '2,843,416.00',\n",
       "       '10,741,883.00', '9,946,188.00', '4,083,586.00', '3,221,053.00',\n",
       "       '3,176,096.00', '6,922,547.00', '6,763,408.00', '636,556.00',\n",
       "       '3,317,173.00', '9,074,663.00', '454,103.00', '4,455,892.00',\n",
       "       '3,447,826.00', '483,146.00', '3,811,299.00', '7,797,811.00',\n",
       "       '9,150,493.00', '25,860,088.00', '3,341,919.00', '2,666,454.00',\n",
       "       '7,956,950.00', '9,317,907.00', '4,718,710.00', '5,569,865.00',\n",
       "       '5,444,782.00', '35,806,275.00', '3,720,590.00', '5,898,487.00',\n",
       "       '8,195,659.00', '19,892,375.00', '795,695.00', '10,980,591.00',\n",
       "       '3,641,100.00', '3,992,798.00', '8,434,367.00', '8,981,169.00',\n",
       "       '1,270,407.00', '6,123,510.00', '14,959,066.00', '8,354,798.00',\n",
       "       '5,580,925.00', '7,240,825.00', '3,651,922.00', '4,355,794.00',\n",
       "       '4,774,170.00', '11,797,054.00', '3,085,387.00', '9,389,201.00',\n",
       "       '9,548,340.00', '11,008,440.00', '8,752,645.00', '10,407,691.00',\n",
       "       '1,724,191.00', '32,782,634.00', '3,629,801.00', '4,991,076.00',\n",
       "       '3,920,230.00', '15,134,119.00', '7,259,682.00', '3,357,594.00',\n",
       "       '6,566,712.00', '18,698,833.00', '4,232,461.00', '430,391.00',\n",
       "       '21,483,765.00', '6,365,560.00', '6,301,666.00', '11,139,730.00',\n",
       "       '4,315,691.00', '3,762,205.00', '12,227,206.00', '2,265,821.00',\n",
       "       '4,702,717.00', '13,526,815.00', '7,054,154.00', '6,113,563.00',\n",
       "       '1,560,278.00', '21,961,182.00', '2,367,272.00', '7,105,079.00',\n",
       "       '954,834.00', '7,618,461.00', '5,967,713.00', '2,885,111.00',\n",
       "       '4,933,309.00', '5,808,574.00', '4,099,341.00', '14,914,666.00',\n",
       "       '2,421,141.00', '7,524,410.00', '9,029,229.00', '8,208,390.00',\n",
       "       '3,611,739.00', '17,903,138.00', '3,978,475.00', '3,197,819.00',\n",
       "       '7,161,255.00', '15,913,900.00', '8,755,589.00', '823,863.00',\n",
       "       '12,014,995.00', '753,205.00', '3,228,135.00', '3,950,307.00',\n",
       "       '3,055,469.00', '1,909,668.00', '5,069,452.00', '6,155,815.00',\n",
       "       '17,505,290.00', '19,096,680.00', '6,564,484.00', '6,583,899.00',\n",
       "       '4,984,950.00', '12,174,134.00', '12,731,120.00', '13,367,676.00',\n",
       "       '6,029,299.00', '1,066,231.00', '11,458,008.00', '10,122,911.00',\n",
       "       '9,473,465.00', '33,657,899.00', '18,300,985.00', '2,257,307.00',\n",
       "       '5,079,001.00', '10,346,104.00', '13,128,968.00', '4,376,323.00',\n",
       "       '4,834,404.00', '13,845,093.00', '227,489.00', '3,185,804.00',\n",
       "       '6,445,130.00', '451,875.00', '1,799,146.00', '7,219,659.00',\n",
       "       '2,069,205.00', '4,925,034.00', '318,278.00', '5,549,256.00',\n",
       "       '5,888,143.00', '12,094,564.00', '1,738,116.00', '1,432,251.00',\n",
       "       '7,647,663.00', '11,696,717.00', '737,768.00', '1,936,881.00',\n",
       "       '4,304,233.00', '4,890,898.00', '15,516,053.00', '3,009,716.00',\n",
       "       '1,026,526.00', '1,975,154.00', '4,514,614.00', '5,253,338.00',\n",
       "       '468,028.00', '14,720,358.00', '2,276,404.00', '3,707,700.00',\n",
       "       '9,302,789.00', '2,690,086.00', '4,476,262.00', '33,100,912.00',\n",
       "       '6,981,269.00', '5,711,976.00', '1,291,254.00', '20,369,792.00',\n",
       "       '14,322,510.00', '5,077,330.00', '3,724,569.00', '1,721,645.00',\n",
       "       '8,250,641.00', '1,436,468.00', '5,745,873.00', '2,915,665.00',\n",
       "       '963,030.00', '7,661,111.00', '47,741,700.00', '2,259,694.00',\n",
       "       '7,399,964.00', '7,933,318.00', '13,826,155.00', '11,286,615.00',\n",
       "       '10,344,035.00', '1,345,043.00', '5,272,673.00', '2,031,568.00',\n",
       "       '7,411,899.00', '8,893,881.00', '2,229,219.00', '5,173,052.00',\n",
       "       '5,768,789.00', '1,504,421.00', '6,181,277.00', '4,615,031.00',\n",
       "       '1,604,996.00', '8,911,784.00', '5,569,785.00', '7,532,447.00',\n",
       "       '8,182,848.00', '8,673,076.00', '4,063,137.00', '12,333,273.00',\n",
       "       '9,596,082.00', '8,124,046.00', '6,755,451.00', '10,870,785.00',\n",
       "       '7,906,026.00', '9,372,412.00', '8,331,086.00', '11,617,147.00',\n",
       "       '9,787,049.00', '4,165,543.00', '7,877,381.00', '9,230,062.00',\n",
       "       '8,455,055.00', '10,065,542.00', '19,255,819.00', '5,206,869.00',\n",
       "       '3,124,137.00', '6,248,275.00', '13,146,473.00', '3,644,840.00',\n",
       "       '9,561,071.00', '7,186,717.00', '14,476,875.00', '10,528,636.00',\n",
       "       '17,514,043.00', '12,737,486.00', '9,881,736.00', '9,190,277.00',\n",
       "       '8,983,397.00', '13,160,795.00', '13,288,107.00', '19,407,001.00',\n",
       "       '10,869,194.00', '8,695,355.00', '10,254,519.00', '7,455,662.00',\n",
       "       '17,823,568.00', '13,357,730.00', '13,924,663.00', '12,460,584.00',\n",
       "       '8,657,162.00', '7,602,866.00', '8,991,354.00', '12,837,902.00',\n",
       "       '10,912,241.00', '16,828,949.00', '15,309,172.00', '7,216,954.00',\n",
       "       '4,877,610.00', '11,028,333.00', '10,821,452.00', '15,090,356.00',\n",
       "       '13,128,649.00', '4,372,901.00', '9,404,080.00', '10,503,174.00',\n",
       "       '16,612,122.00', '11,760,372.00', '10,900,544.00', '8,081,874.00',\n",
       "       '6,289,094.00', '2,967,942.00', '13,049,398.00', '9,893,115.00',\n",
       "       '7,810,383.00', '11,537,578.00', '8,386,625.00', '6,996,705.00',\n",
       "       '17,131,313.00', '12,587,895.00', '16,637,982.00', '12,301,445.00',\n",
       "       '9,224,810.00', '6,498,123.00', '14,608,960.00', '5,727,572.00',\n",
       "       '5,247,529.00', '3,935,587.00', '4,686,166.00', '5,084,491.00',\n",
       "       '8,935,655.00', '19,176,250.00', '12,651,551.00', '6,596,312.00',\n",
       "       '8,020,606.00', '11,171,558.00', '3,498,353.00', '2,623,725.00',\n",
       "       '6,122,077.00', '7,289,680.00', '1,749,176.00', '6,269,360.00',\n",
       "       '15,673,521.00', '2,962,850.00', '1,467,421.00', '2,515,590.00',\n",
       "       '4,635,321.00', '12,943,889.00', '8,346,045.00', '14,579,360.00',\n",
       "       '14,728,314.00', '5,172,018.00', '25,780,518.00', '17,187,012.00',\n",
       "       '16,709,595.00', '2,536,278.00', '2,831,879.00', '4,617,816.00',\n",
       "       '7,433,940.00', '4,169,124.00', '4,985,109.00', '3,182,780.00',\n",
       "       '6,956,364.00', '6,898,914.00', '5,160,003.00', '12,492,412.00',\n",
       "       '5,642,432.00', '5,684,763.00', '3,819,336.00', '12,134,349.00',\n",
       "       '5,422,423.00', '9,735,010.00', '30,236,410.00', '5,517,031.00',\n",
       "       '32,225,648.00', '14,083,802.00', '6,206,421.00', '17,027,873.00',\n",
       "       '15,325,086.00', '21,197,315.00', '16,957,852.00', '11,243,170.00',\n",
       "       '16,446,936.00', '7,885,337.00', '8,792,430.00', '7,881,359.00',\n",
       "       '16,335,618.00', '14,004,232.00', '15,921,857.00', '5,609,650.00',\n",
       "       '14,696,487.00', '13,932,619.00', '11,159,622.00', '9,241,997.00',\n",
       "       '4,296,753.00', '5,490,296.00', '11,941,393.00', '1,989,238.00',\n",
       "       '8,826,247.00', '15,322,221.00', '11,525,960.00', '11,956,113.00',\n",
       "       '5,331,157.00', '4,137,614.00', '12,253,703.00', '10,025,757.00',\n",
       "       '10,264,466.00'], dtype=object)"
      ]
     },
     "execution_count": 19,
     "metadata": {},
     "output_type": "execute_result"
    }
   ],
   "source": [
    "df['Salary_In_Rupees'].unique()"
   ]
  },
  {
   "cell_type": "code",
   "execution_count": 20,
   "id": "7d10d43a",
   "metadata": {
    "execution": {
     "iopub.execute_input": "2022-10-30T16:39:19.453515Z",
     "iopub.status.busy": "2022-10-30T16:39:19.453140Z",
     "iopub.status.idle": "2022-10-30T16:39:19.462919Z",
     "shell.execute_reply": "2022-10-30T16:39:19.461552Z"
    },
    "papermill": {
     "duration": 0.027337,
     "end_time": "2022-10-30T16:39:19.465679",
     "exception": false,
     "start_time": "2022-10-30T16:39:19.438342",
     "status": "completed"
    },
    "tags": []
   },
   "outputs": [
    {
     "data": {
      "text/plain": [
       "array(['Data Scientist', 'Machine Learning Scientist',\n",
       "       'Big Data Engineer', 'Product Data Analyst',\n",
       "       'Machine Learning Engineer', 'Data Analyst', 'Lead Data Scientist',\n",
       "       'Business Data Analyst', 'Lead Data Engineer', 'Lead Data Analyst',\n",
       "       'Data Engineer', 'Data Science Consultant', 'BI Data Analyst',\n",
       "       'Director of Data Science', 'Research Scientist',\n",
       "       'Machine Learning Manager', 'Data Engineering Manager',\n",
       "       'Machine Learning Infrastructure Engineer', 'ML Engineer',\n",
       "       'AI Scientist', 'Computer Vision Engineer',\n",
       "       'Principal Data Scientist', 'Data Science Manager', 'Head of Data',\n",
       "       '3D Computer Vision Researcher', 'Data Analytics Engineer',\n",
       "       'Applied Data Scientist', 'Marketing Data Analyst',\n",
       "       'Cloud Data Engineer', 'Financial Data Analyst',\n",
       "       'Computer Vision Software Engineer',\n",
       "       'Director of Data Engineering', 'Data Science Engineer',\n",
       "       'Principal Data Engineer', 'Machine Learning Developer',\n",
       "       'Applied Machine Learning Scientist', 'Data Analytics Manager',\n",
       "       'Head of Data Science', 'Data Specialist', 'Data Architect',\n",
       "       'Finance Data Analyst', 'Principal Data Analyst',\n",
       "       'Big Data Architect', 'Staff Data Scientist', 'Analytics Engineer',\n",
       "       'ETL Developer', 'Head of Machine Learning', 'NLP Engineer',\n",
       "       'Lead Machine Learning Engineer', 'Data Analytics Lead'],\n",
       "      dtype=object)"
      ]
     },
     "execution_count": 20,
     "metadata": {},
     "output_type": "execute_result"
    }
   ],
   "source": [
    "df['Designation'].unique()"
   ]
  },
  {
   "cell_type": "code",
   "execution_count": 21,
   "id": "c63eec68",
   "metadata": {
    "execution": {
     "iopub.execute_input": "2022-10-30T16:39:19.502346Z",
     "iopub.status.busy": "2022-10-30T16:39:19.500874Z",
     "iopub.status.idle": "2022-10-30T16:39:19.510219Z",
     "shell.execute_reply": "2022-10-30T16:39:19.509028Z"
    },
    "papermill": {
     "duration": 0.03034,
     "end_time": "2022-10-30T16:39:19.513046",
     "exception": false,
     "start_time": "2022-10-30T16:39:19.482706",
     "status": "completed"
    },
    "tags": []
   },
   "outputs": [
    {
     "data": {
      "text/plain": [
       "array(['DE', 'JP', 'GB', 'HN', 'US', 'HU', 'NZ', 'FR', 'IN', 'PK', 'PL',\n",
       "       'PT', 'CN', 'GR', 'AE', 'NL', 'MX', 'CA', 'AT', 'NG', 'PH', 'ES',\n",
       "       'DK', 'RU', 'IT', 'HR', 'BG', 'SG', 'BR', 'IQ', 'VN', 'BE', 'UA',\n",
       "       'MT', 'CL', 'RO', 'IR', 'CO', 'MD', 'KE', 'SI', 'HK', 'TR', 'RS',\n",
       "       'PR', 'LU', 'JE', 'CZ', 'AR', 'DZ', 'TN', 'MY', 'EE', 'AU', 'BO',\n",
       "       'IE', 'CH'], dtype=object)"
      ]
     },
     "execution_count": 21,
     "metadata": {},
     "output_type": "execute_result"
    }
   ],
   "source": [
    "df['Employee_Location'].unique()"
   ]
  },
  {
   "cell_type": "code",
   "execution_count": 22,
   "id": "20ba5da5",
   "metadata": {
    "execution": {
     "iopub.execute_input": "2022-10-30T16:39:19.540347Z",
     "iopub.status.busy": "2022-10-30T16:39:19.539698Z",
     "iopub.status.idle": "2022-10-30T16:39:20.602987Z",
     "shell.execute_reply": "2022-10-30T16:39:20.601936Z"
    },
    "papermill": {
     "duration": 1.079577,
     "end_time": "2022-10-30T16:39:20.605810",
     "exception": false,
     "start_time": "2022-10-30T16:39:19.526233",
     "status": "completed"
    },
    "tags": []
   },
   "outputs": [],
   "source": [
    "import seaborn as sns\n",
    "import matplotlib.pyplot as plt"
   ]
  },
  {
   "cell_type": "code",
   "execution_count": 23,
   "id": "32d59ab5",
   "metadata": {
    "execution": {
     "iopub.execute_input": "2022-10-30T16:39:20.630320Z",
     "iopub.status.busy": "2022-10-30T16:39:20.629897Z",
     "iopub.status.idle": "2022-10-30T16:39:21.850197Z",
     "shell.execute_reply": "2022-10-30T16:39:21.848970Z"
    },
    "papermill": {
     "duration": 1.236455,
     "end_time": "2022-10-30T16:39:21.853563",
     "exception": false,
     "start_time": "2022-10-30T16:39:20.617108",
     "status": "completed"
    },
    "tags": []
   },
   "outputs": [
    {
     "name": "stderr",
     "output_type": "stream",
     "text": [
      "/opt/conda/lib/python3.7/site-packages/seaborn/_decorators.py:43: FutureWarning: Pass the following variable as a keyword arg: x. From version 0.12, the only valid positional argument will be `data`, and passing other arguments without an explicit keyword will result in an error or misinterpretation.\n",
      "  FutureWarning\n"
     ]
    },
    {
     "data": {
      "text/plain": [
       "<AxesSubplot:xlabel='Designation', ylabel='count'>"
      ]
     },
     "execution_count": 23,
     "metadata": {},
     "output_type": "execute_result"
    },
    {
     "data": {
      "image/png": "[encoded data removed]",
      "text/plain": [
       "<Figure size 432x288 with 1 Axes>"
      ]
     },
     "metadata": {
      "needs_background": "light"
     },
     "output_type": "display_data"
    }
   ],
   "source": [
    "sns.countplot(df['Designation'])"
   ]
  },
  {
   "cell_type": "code",
   "execution_count": 24,
   "id": "07fcfaf8",
   "metadata": {
    "execution": {
     "iopub.execute_input": "2022-10-30T16:39:21.891103Z",
     "iopub.status.busy": "2022-10-30T16:39:21.889737Z",
     "iopub.status.idle": "2022-10-30T16:39:22.108275Z",
     "shell.execute_reply": "2022-10-30T16:39:22.107117Z"
    },
    "papermill": {
     "duration": 0.23793,
     "end_time": "2022-10-30T16:39:22.110899",
     "exception": false,
     "start_time": "2022-10-30T16:39:21.872969",
     "status": "completed"
    },
    "tags": []
   },
   "outputs": [
    {
     "name": "stderr",
     "output_type": "stream",
     "text": [
      "/opt/conda/lib/python3.7/site-packages/seaborn/_decorators.py:43: FutureWarning: Pass the following variable as a keyword arg: x. From version 0.12, the only valid positional argument will be `data`, and passing other arguments without an explicit keyword will result in an error or misinterpretation.\n",
      "  FutureWarning\n"
     ]
    },
    {
     "data": {
      "text/plain": [
       "<AxesSubplot:xlabel='Experience', ylabel='count'>"
      ]
     },
     "execution_count": 24,
     "metadata": {},
     "output_type": "execute_result"
    },
    {
     "data": {
      "image/png": "[encoded data removed]",
      "text/plain": [
       "<Figure size 432x288 with 1 Axes>"
      ]
     },
     "metadata": {
      "needs_background": "light"
     },
     "output_type": "display_data"
    }
   ],
   "source": [
    "sns.countplot(df['Experience'])"
   ]
  },
  {
   "cell_type": "code",
   "execution_count": 25,
   "id": "fa7fb445",
   "metadata": {
    "execution": {
     "iopub.execute_input": "2022-10-30T16:39:22.137599Z",
     "iopub.status.busy": "2022-10-30T16:39:22.137210Z",
     "iopub.status.idle": "2022-10-30T16:39:28.093570Z",
     "shell.execute_reply": "2022-10-30T16:39:28.092078Z"
    },
    "papermill": {
     "duration": 5.972867,
     "end_time": "2022-10-30T16:39:28.096323",
     "exception": false,
     "start_time": "2022-10-30T16:39:22.123456",
     "status": "completed"
    },
    "tags": []
   },
   "outputs": [
    {
     "name": "stderr",
     "output_type": "stream",
     "text": [
      "/opt/conda/lib/python3.7/site-packages/seaborn/_decorators.py:43: FutureWarning: Pass the following variable as a keyword arg: x. From version 0.12, the only valid positional argument will be `data`, and passing other arguments without an explicit keyword will result in an error or misinterpretation.\n",
      "  FutureWarning\n"
     ]
    },
    {
     "data": {
      "text/plain": [
       "<AxesSubplot:xlabel='Salary_In_Rupees', ylabel='count'>"
      ]
     },
     "execution_count": 25,
     "metadata": {},
     "output_type": "execute_result"
    },
    {
     "data": {
      "image/png": "[encoded data removed]",
      "text/plain": [
       "<Figure size 432x288 with 1 Axes>"
      ]
     },
     "metadata": {
      "needs_background": "light"
     },
     "output_type": "display_data"
    }
   ],
   "source": [
    "sns.countplot(df['Salary_In_Rupees'])"
   ]
  },
  {
   "cell_type": "code",
   "execution_count": 26,
   "id": "6a1f4ae6",
   "metadata": {
    "execution": {
     "iopub.execute_input": "2022-10-30T16:39:28.124010Z",
     "iopub.status.busy": "2022-10-30T16:39:28.122784Z",
     "iopub.status.idle": "2022-10-30T16:39:28.924970Z",
     "shell.execute_reply": "2022-10-30T16:39:28.923656Z"
    },
    "papermill": {
     "duration": 0.818517,
     "end_time": "2022-10-30T16:39:28.927528",
     "exception": false,
     "start_time": "2022-10-30T16:39:28.109011",
     "status": "completed"
    },
    "tags": []
   },
   "outputs": [
    {
     "name": "stderr",
     "output_type": "stream",
     "text": [
      "/opt/conda/lib/python3.7/site-packages/seaborn/_decorators.py:43: FutureWarning: Pass the following variable as a keyword arg: x. From version 0.12, the only valid positional argument will be `data`, and passing other arguments without an explicit keyword will result in an error or misinterpretation.\n",
      "  FutureWarning\n"
     ]
    },
    {
     "data": {
      "text/plain": [
       "<AxesSubplot:xlabel='Employee_Location', ylabel='count'>"
      ]
     },
     "execution_count": 26,
     "metadata": {},
     "output_type": "execute_result"
    },
    {
     "data": {
      "image/png": "[encoded data removed]",
      "text/plain": [
       "<Figure size 432x288 with 1 Axes>"
      ]
     },
     "metadata": {
      "needs_background": "light"
     },
     "output_type": "display_data"
    }
   ],
   "source": [
    "sns.countplot(df['Employee_Location'])"
   ]
  },
  {
   "cell_type": "code",
   "execution_count": 27,
   "id": "90eb7ac0",
   "metadata": {
    "execution": {
     "iopub.execute_input": "2022-10-30T16:39:28.955792Z",
     "iopub.status.busy": "2022-10-30T16:39:28.955313Z",
     "iopub.status.idle": "2022-10-30T16:39:30.095755Z",
     "shell.execute_reply": "2022-10-30T16:39:30.094838Z"
    },
    "papermill": {
     "duration": 1.157545,
     "end_time": "2022-10-30T16:39:30.098146",
     "exception": false,
     "start_time": "2022-10-30T16:39:28.940601",
     "status": "completed"
    },
    "tags": []
   },
   "outputs": [
    {
     "data": {
      "text/plain": [
       "<AxesSubplot:xlabel='Designation', ylabel='Count'>"
      ]
     },
     "execution_count": 27,
     "metadata": {},
     "output_type": "execute_result"
    },
    {
     "data": {
      "image/png": "[encoded data removed]",
      "text/plain": [
       "<Figure size 432x288 with 1 Axes>"
      ]
     },
     "metadata": {
      "needs_background": "light"
     },
     "output_type": "display_data"
    }
   ],
   "source": [
    "sns.histplot(df['Designation'])"
   ]
  },
  {
   "cell_type": "code",
   "execution_count": 28,
   "id": "642ca4b8",
   "metadata": {
    "execution": {
     "iopub.execute_input": "2022-10-30T16:39:30.127001Z",
     "iopub.status.busy": "2022-10-30T16:39:30.126213Z",
     "iopub.status.idle": "2022-10-30T16:39:30.329742Z",
     "shell.execute_reply": "2022-10-30T16:39:30.328443Z"
    },
    "papermill": {
     "duration": 0.221024,
     "end_time": "2022-10-30T16:39:30.332464",
     "exception": false,
     "start_time": "2022-10-30T16:39:30.111440",
     "status": "completed"
    },
    "tags": []
   },
   "outputs": [
    {
     "data": {
      "text/plain": [
       "<AxesSubplot:xlabel='Experience', ylabel='Count'>"
      ]
     },
     "execution_count": 28,
     "metadata": {},
     "output_type": "execute_result"
    },
    {
     "data": {
      "image/png": "[encoded data removed]",
      "text/plain": [
       "<Figure size 432x288 with 1 Axes>"
      ]
     },
     "metadata": {
      "needs_background": "light"
     },
     "output_type": "display_data"
    }
   ],
   "source": [
    "sns.histplot(df['Experience'])"
   ]
  },
  {
   "cell_type": "code",
   "execution_count": 29,
   "id": "f3db3f28",
   "metadata": {
    "execution": {
     "iopub.execute_input": "2022-10-30T16:39:30.361941Z",
     "iopub.status.busy": "2022-10-30T16:39:30.361529Z",
     "iopub.status.idle": "2022-10-30T16:39:36.219776Z",
     "shell.execute_reply": "2022-10-30T16:39:36.218582Z"
    },
    "papermill": {
     "duration": 5.876199,
     "end_time": "2022-10-30T16:39:36.222450",
     "exception": false,
     "start_time": "2022-10-30T16:39:30.346251",
     "status": "completed"
    },
    "tags": []
   },
   "outputs": [
    {
     "data": {
      "text/plain": [
       "<AxesSubplot:xlabel='Salary_In_Rupees', ylabel='Count'>"
      ]
     },
     "execution_count": 29,
     "metadata": {},
     "output_type": "execute_result"
    },
    {
     "data": {
      "image/png": "[encoded data removed]",
      "text/plain": [
       "<Figure size 432x288 with 1 Axes>"
      ]
     },
     "metadata": {
      "needs_background": "light"
     },
     "output_type": "display_data"
    }
   ],
   "source": [
    "sns.histplot(df['Salary_In_Rupees'])"
   ]
  },
  {
   "cell_type": "code",
   "execution_count": 30,
   "id": "84b19329",
   "metadata": {
    "execution": {
     "iopub.execute_input": "2022-10-30T16:39:36.252853Z",
     "iopub.status.busy": "2022-10-30T16:39:36.252387Z",
     "iopub.status.idle": "2022-10-30T16:39:37.048356Z",
     "shell.execute_reply": "2022-10-30T16:39:37.047183Z"
    },
    "papermill": {
     "duration": 0.813832,
     "end_time": "2022-10-30T16:39:37.050841",
     "exception": false,
     "start_time": "2022-10-30T16:39:36.237009",
     "status": "completed"
    },
    "tags": []
   },
   "outputs": [
    {
     "data": {
      "text/plain": [
       "<AxesSubplot:xlabel='Employee_Location', ylabel='Count'>"
      ]
     },
     "execution_count": 30,
     "metadata": {},
     "output_type": "execute_result"
    },
    {
     "data": {
      "image/png": "[encoded data removed]",
      "text/plain": [
       "<Figure size 432x288 with 1 Axes>"
      ]
     },
     "metadata": {
      "needs_background": "light"
     },
     "output_type": "display_data"
    }
   ],
   "source": [
    "sns.histplot(df['Employee_Location'])"
   ]
  },
  {
   "cell_type": "code",
   "execution_count": 31,
   "id": "c070b8fb",
   "metadata": {
    "execution": {
     "iopub.execute_input": "2022-10-30T16:39:37.082267Z",
     "iopub.status.busy": "2022-10-30T16:39:37.080968Z",
     "iopub.status.idle": "2022-10-30T16:39:37.800027Z",
     "shell.execute_reply": "2022-10-30T16:39:37.798779Z"
    },
    "papermill": {
     "duration": 0.738057,
     "end_time": "2022-10-30T16:39:37.803290",
     "exception": false,
     "start_time": "2022-10-30T16:39:37.065233",
     "status": "completed"
    },
    "tags": []
   },
   "outputs": [
    {
     "data": {
      "text/plain": [
       "<AxesSubplot:xlabel='Company_Location', ylabel='Count'>"
      ]
     },
     "execution_count": 31,
     "metadata": {},
     "output_type": "execute_result"
    },
    {
     "data": {
      "image/png": "[encoded data removed]",
      "text/plain": [
       "<Figure size 432x288 with 1 Axes>"
      ]
     },
     "metadata": {
      "needs_background": "light"
     },
     "output_type": "display_data"
    }
   ],
   "source": [
    "sns.histplot(df['Company_Location'])"
   ]
  },
  {
   "cell_type": "code",
   "execution_count": 32,
   "id": "13f638ab",
   "metadata": {
    "execution": {
     "iopub.execute_input": "2022-10-30T16:39:37.838004Z",
     "iopub.status.busy": "2022-10-30T16:39:37.837521Z",
     "iopub.status.idle": "2022-10-30T16:39:38.048625Z",
     "shell.execute_reply": "2022-10-30T16:39:38.047511Z"
    },
    "papermill": {
     "duration": 0.232508,
     "end_time": "2022-10-30T16:39:38.051293",
     "exception": false,
     "start_time": "2022-10-30T16:39:37.818785",
     "status": "completed"
    },
    "tags": []
   },
   "outputs": [
    {
     "data": {
      "text/plain": [
       "<AxesSubplot:xlabel='Company_Size', ylabel='Count'>"
      ]
     },
     "execution_count": 32,
     "metadata": {},
     "output_type": "execute_result"
    },
    {
     "data": {
      "image/png": "[encoded data removed]",
      "text/plain": [
       "<Figure size 432x288 with 1 Axes>"
      ]
     },
     "metadata": {
      "needs_background": "light"
     },
     "output_type": "display_data"
    }
   ],
   "source": [
    "sns.histplot(df['Company_Size'])"
   ]
  },
  {
   "cell_type": "code",
   "execution_count": null,
   "id": "5ad079a9",
   "metadata": {
    "papermill": {
     "duration": 0.014847,
     "end_time": "2022-10-30T16:39:38.081371",
     "exception": false,
     "start_time": "2022-10-30T16:39:38.066524",
     "status": "completed"
    },
    "tags": []
   },
   "outputs": [],
   "source": []
  }
 ],
 "metadata": {
  "kernelspec": {
   "display_name": "Python 3",
   "language": "python",
   "name": "python3"
  },
  "language_info": {
   "codemirror_mode": {
    "name": "ipython",
    "version": 3
   },
   "file_extension": ".py",
   "mimetype": "text/x-python",
   "name": "python",
   "nbconvert_exporter": "python",
   "pygments_lexer": "ipython3",
   "version": "3.7.12"
  },
  "papermill": {
   "default_parameters": {},
   "duration": 29.023067,
   "end_time": "2022-10-30T16:39:39.019662",
   "environment_variables": {},
   "exception": null,
   "input_path": "__notebook__.ipynb",
   "output_path": "__notebook__.ipynb",
   "parameters": {},
   "start_time": "2022-10-30T16:39:09.996595",
   "version": "2.3.4"
  }
 },
 "nbformat": 4,
 "nbformat_minor": 5
}
